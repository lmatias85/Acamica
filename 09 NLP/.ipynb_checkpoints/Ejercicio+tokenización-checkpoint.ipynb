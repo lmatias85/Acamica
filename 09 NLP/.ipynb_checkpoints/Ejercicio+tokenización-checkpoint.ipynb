{
 "cells": [
  {
   "cell_type": "code",
   "execution_count": 2,
   "metadata": {},
   "outputs": [
    {
     "data": {
      "text/plain": [
       "['No',\n",
       " 'temáis',\n",
       " 'a',\n",
       " 'la',\n",
       " 'grandeza',\n",
       " ';',\n",
       " 'algunos',\n",
       " 'nacen',\n",
       " 'grandes',\n",
       " ',',\n",
       " 'algunos',\n",
       " 'logran',\n",
       " 'grandeza',\n",
       " ',',\n",
       " 'a',\n",
       " 'algunos',\n",
       " 'la',\n",
       " 'grandeza',\n",
       " 'les',\n",
       " 'es',\n",
       " 'impuesta',\n",
       " 'y',\n",
       " 'a',\n",
       " 'otros',\n",
       " 'la',\n",
       " 'grandeza',\n",
       " 'les',\n",
       " 'queda',\n",
       " 'grande',\n",
       " '.']"
      ]
     },
     "execution_count": 2,
     "metadata": {},
     "output_type": "execute_result"
    }
   ],
   "source": [
    "# 1) Tokenizar el siguiente texto por palabras, \n",
    "# tomando también los signos de puntuación \n",
    "\n",
    "s = '''\n",
    "     No temáis a la grandeza; \n",
    "     algunos nacen grandes, algunos \n",
    "     logran grandeza, a algunos la \n",
    "     grandeza les es impuesta y a \n",
    "     otros la grandeza les queda grande.\n",
    "'''\n",
    "\n",
    "from nltk.tokenize import WordPunctTokenizer\n",
    "tokenizer=WordPunctTokenizer() # TreebankWordTokenizer\n",
    "tokenizer.tokenize(s)\n"
   ]
  },
  {
   "cell_type": "code",
   "execution_count": 8,
   "metadata": {},
   "outputs": [
    {
     "data": {
      "text/plain": [
       "['no',\n",
       " 'temáis',\n",
       " 'a',\n",
       " 'la',\n",
       " 'grandeza',\n",
       " ';',\n",
       " 'algunos',\n",
       " 'nacen',\n",
       " 'grandes',\n",
       " ',',\n",
       " 'algunos',\n",
       " 'logran',\n",
       " 'grandeza',\n",
       " ',',\n",
       " 'a',\n",
       " 'algunos',\n",
       " 'la',\n",
       " 'grandeza',\n",
       " 'les',\n",
       " 'es',\n",
       " 'impuesta',\n",
       " 'y',\n",
       " 'a',\n",
       " 'otros',\n",
       " 'la',\n",
       " 'grandeza',\n",
       " 'les',\n",
       " 'queda',\n",
       " 'grande',\n",
       " '.']"
      ]
     },
     "execution_count": 8,
     "metadata": {},
     "output_type": "execute_result"
    }
   ],
   "source": [
    "# 2) Tokenizar de la misma forma, pero esta vez normalizando los tokens\n",
    "# llevándolos a minúscula\n",
    "s = s.lower()\n",
    "tokenizer.tokenize(s)"
   ]
  },
  {
   "cell_type": "code",
   "execution_count": 10,
   "metadata": {},
   "outputs": [
    {
     "data": {
      "text/plain": [
       "['no',\n",
       " 'temáis',\n",
       " 'a',\n",
       " 'la',\n",
       " 'grandeza',\n",
       " 'algunos',\n",
       " 'nacen',\n",
       " 'grandes',\n",
       " 'algunos',\n",
       " 'logran',\n",
       " 'grandeza',\n",
       " 'a',\n",
       " 'algunos',\n",
       " 'la',\n",
       " 'grandeza',\n",
       " 'les',\n",
       " 'es',\n",
       " 'impuesta',\n",
       " 'y',\n",
       " 'a',\n",
       " 'otros',\n",
       " 'la',\n",
       " 'grandeza',\n",
       " 'les',\n",
       " 'queda',\n",
       " 'grande']"
      ]
     },
     "execution_count": 10,
     "metadata": {},
     "output_type": "execute_result"
    }
   ],
   "source": [
    "# 3) Esta vez, tokenizá el texto pero sin los signos de puntuación\n",
    "import nltk\n",
    "from nltk.tokenize import RegexpTokenizer\n",
    "tokenizer=RegexpTokenizer(\"[\\w]+\") # \\w busca sólo palabras\n",
    "tokenizer.tokenize(s)"
   ]
  },
  {
   "cell_type": "code",
   "execution_count": 12,
   "metadata": {},
   "outputs": [
    {
     "name": "stdout",
     "output_type": "stream",
     "text": [
      "\n",
      "     no temáis a la grandeza; \n",
      "     algunos nacen grandes, algunos \n",
      "     logran grandeza, a algunos la \n",
      "     grandeza les es impuesta y a \n",
      "     otros la grandeza les queda grande.\n",
      "\n"
     ]
    }
   ],
   "source": [
    "# 4) Ahora dividir el texto en oraciones\n",
    "from nltk.tokenize import sent_tokenize\n",
    "sent_tokenize(s)\n",
    "print(s)"
   ]
  },
  {
   "cell_type": "code",
   "execution_count": 13,
   "metadata": {},
   "outputs": [
    {
     "data": {
      "text/plain": [
       "['Lluvia',\n",
       " 'de',\n",
       " 'emoticoness',\n",
       " '#dummysmiley',\n",
       " ':',\n",
       " ':-)',\n",
       " ':-P',\n",
       " '<3',\n",
       " '<',\n",
       " '>',\n",
       " '->',\n",
       " '<--']"
      ]
     },
     "execution_count": 13,
     "metadata": {},
     "output_type": "execute_result"
    }
   ],
   "source": [
    "# 5) Probá ahora aplicar el siguiente tokenizador al siguiente tweet.\n",
    "from nltk.tokenize import TweetTokenizer\n",
    "tokenizer = TweetTokenizer()\n",
    "s = \"Lluvia de emoticoness #dummysmiley: :-) :-P <3 < > -> <--\"\n",
    "tokenizer.tokenize(s)"
   ]
  },
  {
   "cell_type": "markdown",
   "metadata": {},
   "source": [
    "Conocé más sobre tokenizadores en la documentación de NLTK\n",
    "https://www.nltk.org/api/nltk.tokenize.html"
   ]
  }
 ],
 "metadata": {
  "kernelspec": {
   "display_name": "Python 3",
   "language": "python",
   "name": "python3"
  },
  "language_info": {
   "codemirror_mode": {
    "name": "ipython",
    "version": 3
   },
   "file_extension": ".py",
   "mimetype": "text/x-python",
   "name": "python",
   "nbconvert_exporter": "python",
   "pygments_lexer": "ipython3",
   "version": "3.7.0"
  }
 },
 "nbformat": 4,
 "nbformat_minor": 2
}
