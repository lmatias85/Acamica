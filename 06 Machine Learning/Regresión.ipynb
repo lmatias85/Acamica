{
 "cells": [
  {
   "cell_type": "code",
   "execution_count": 1,
   "metadata": {},
   "outputs": [],
   "source": [
    "import warnings\n",
    "warnings.filterwarnings('ignore')"
   ]
  },
  {
   "cell_type": "markdown",
   "metadata": {},
   "source": [
    "## Fit y Transform"
   ]
  },
  {
   "cell_type": "code",
   "execution_count": 2,
   "metadata": {},
   "outputs": [
    {
     "name": "stdout",
     "output_type": "stream",
     "text": [
      "     0    1\n",
      "0  1.0  3.0\n",
      "1  NaN  2.0\n",
      "2  8.0  5.5\n"
     ]
    },
    {
     "name": "stderr",
     "output_type": "stream",
     "text": [
      "C:\\Users\\Dicsys\\Anaconda3\\lib\\site-packages\\sklearn\\utils\\deprecation.py:58: DeprecationWarning: Class Imputer is deprecated; Imputer was deprecated in version 0.20 and will be removed in 0.22. Import impute.SimpleImputer from sklearn instead.\n",
      "  warnings.warn(msg, category=DeprecationWarning)\n"
     ]
    }
   ],
   "source": [
    "import pandas as pd\n",
    "import numpy as np\n",
    "from sklearn.preprocessing import Imputer\n",
    "imp = Imputer()\n",
    "X = pd.DataFrame([[1, 3], [np.nan, 2], [8, 5.5]])\n",
    "print(X)\n"
   ]
  },
  {
   "cell_type": "code",
   "execution_count": 3,
   "metadata": {},
   "outputs": [
    {
     "data": {
      "text/plain": [
       "Imputer(axis=0, copy=True, missing_values='NaN', strategy='mean', verbose=0)"
      ]
     },
     "execution_count": 3,
     "metadata": {},
     "output_type": "execute_result"
    }
   ],
   "source": [
    "# Calcula el promedio\n",
    "imp.fit(X)\n",
    "#imp.fit_transform(X)"
   ]
  },
  {
   "cell_type": "code",
   "execution_count": 4,
   "metadata": {},
   "outputs": [
    {
     "name": "stdout",
     "output_type": "stream",
     "text": [
      "     0     1\n",
      "0  NaN  11.0\n",
      "1  4.0   NaN\n",
      "2  8.0   2.0\n",
      "3  NaN   1.0\n"
     ]
    }
   ],
   "source": [
    "X_test = pd.DataFrame([[np.nan, 11], \n",
    "     [4,      np.nan], \n",
    "     [8,      2],\n",
    "     [np.nan, 1]])\n",
    "print(X_test)\n"
   ]
  },
  {
   "cell_type": "code",
   "execution_count": 5,
   "metadata": {},
   "outputs": [
    {
     "name": "stdout",
     "output_type": "stream",
     "text": [
      "[[ 4.5 11. ]\n",
      " [ 4.   3.5]\n",
      " [ 8.   2. ]\n",
      " [ 4.5  1. ]]\n"
     ]
    }
   ],
   "source": [
    "print(imp.transform(X_test))"
   ]
  },
  {
   "cell_type": "markdown",
   "metadata": {},
   "source": [
    "## Regresión lineal"
   ]
  },
  {
   "cell_type": "code",
   "execution_count": 6,
   "metadata": {},
   "outputs": [],
   "source": [
    "import seaborn as sns\n",
    "# Cargamos el dataset asncombe (https://en.wikipedia.org/wiki/Anscombe%27s_quartet) que ya viene con seaborn\n",
    "anscombe = sns.load_dataset(\"anscombe\")"
   ]
  },
  {
   "cell_type": "code",
   "execution_count": 7,
   "metadata": {},
   "outputs": [
    {
     "data": {
      "image/png": "[encoded data removed]",
      "text/plain": [
       "<Figure size 360x360 with 1 Axes>"
      ]
     },
     "metadata": {
      "needs_background": "light"
     },
     "output_type": "display_data"
    }
   ],
   "source": [
    "sns.lmplot(x=\"x\", y=\"y\", data=anscombe.query(\"dataset == 'I'\"),\n",
    "           ci=None, scatter_kws={\"s\": 80});"
   ]
  },
  {
   "cell_type": "markdown",
   "metadata": {},
   "source": [
    "## Ecuación normal"
   ]
  },
  {
   "cell_type": "code",
   "execution_count": 8,
   "metadata": {},
   "outputs": [],
   "source": [
    "# Generamos un conjunto de datos lineal de forma aleatoria\n",
    "import numpy as np\n",
    "import matplotlib.pyplot as plt\n",
    "\n",
    "X = 2 * np.random.rand(100, 1)\n",
    "y = 4 + 3 * X + np.random.randn(100, 1)"
   ]
  },
  {
   "cell_type": "code",
   "execution_count": 9,
   "metadata": {},
   "outputs": [
    {
     "data": {
      "text/plain": [
       "array([[0.77904715],\n",
       "       [0.78966214],\n",
       "       [0.97027536],\n",
       "       [0.22152185],\n",
       "       [1.9231099 ],\n",
       "       [0.03505779],\n",
       "       [0.29567856],\n",
       "       [1.58311328],\n",
       "       [0.67767464],\n",
       "       [1.87965857],\n",
       "       [1.65810686],\n",
       "       [1.71682734],\n",
       "       [0.29440133],\n",
       "       [0.85052582],\n",
       "       [0.03492803],\n",
       "       [0.16926366],\n",
       "       [0.42620397],\n",
       "       [1.01462146],\n",
       "       [1.175457  ],\n",
       "       [0.08355867],\n",
       "       [0.22663129],\n",
       "       [0.88503645],\n",
       "       [0.66249767],\n",
       "       [0.08337494],\n",
       "       [0.47883908],\n",
       "       [1.00497709],\n",
       "       [0.88402052],\n",
       "       [1.16834049],\n",
       "       [0.96821942],\n",
       "       [0.76171026],\n",
       "       [0.09085124],\n",
       "       [1.84569069],\n",
       "       [1.99297758],\n",
       "       [1.24151866],\n",
       "       [0.69521398],\n",
       "       [1.03670987],\n",
       "       [0.62009134],\n",
       "       [0.02877836],\n",
       "       [0.77198419],\n",
       "       [0.09522251],\n",
       "       [1.97157784],\n",
       "       [0.82283596],\n",
       "       [1.20145831],\n",
       "       [0.34275418],\n",
       "       [1.42829251],\n",
       "       [1.74527834],\n",
       "       [1.27641796],\n",
       "       [0.6694837 ],\n",
       "       [1.2795127 ],\n",
       "       [0.75122531],\n",
       "       [1.36347311],\n",
       "       [1.06537547],\n",
       "       [0.48549727],\n",
       "       [1.31102801],\n",
       "       [1.25833702],\n",
       "       [1.19606633],\n",
       "       [0.85109544],\n",
       "       [0.37779132],\n",
       "       [0.1466337 ],\n",
       "       [1.47660405],\n",
       "       [1.21830004],\n",
       "       [0.33522808],\n",
       "       [1.21881947],\n",
       "       [1.4257593 ],\n",
       "       [1.88701867],\n",
       "       [1.79813   ],\n",
       "       [1.54706997],\n",
       "       [0.51725994],\n",
       "       [1.73243286],\n",
       "       [0.63653269],\n",
       "       [1.79290343],\n",
       "       [0.86910273],\n",
       "       [1.67385145],\n",
       "       [0.62287639],\n",
       "       [0.67370577],\n",
       "       [1.91155442],\n",
       "       [0.64875593],\n",
       "       [1.75658127],\n",
       "       [1.9336589 ],\n",
       "       [0.69259672],\n",
       "       [0.64622585],\n",
       "       [0.30241615],\n",
       "       [1.52418673],\n",
       "       [1.93491302],\n",
       "       [1.27904598],\n",
       "       [1.34854708],\n",
       "       [1.98429804],\n",
       "       [1.21053255],\n",
       "       [0.38058533],\n",
       "       [1.422311  ],\n",
       "       [0.02436704],\n",
       "       [0.24297261],\n",
       "       [1.3029944 ],\n",
       "       [1.08470446],\n",
       "       [0.13979138],\n",
       "       [0.24554311],\n",
       "       [0.11945473],\n",
       "       [0.03120205],\n",
       "       [1.87322983],\n",
       "       [0.77906547]])"
      ]
     },
     "execution_count": 9,
     "metadata": {},
     "output_type": "execute_result"
    }
   ],
   "source": [
    "X"
   ]
  },
  {
   "cell_type": "code",
   "execution_count": 10,
   "metadata": {},
   "outputs": [
    {
     "data": {
      "text/plain": [
       "array([[ 6.91480769],\n",
       "       [ 4.70793408],\n",
       "       [ 6.43065902],\n",
       "       [ 5.3469494 ],\n",
       "       [ 7.7833    ],\n",
       "       [ 5.48684737],\n",
       "       [ 4.63945842],\n",
       "       [ 7.36408419],\n",
       "       [ 5.54022351],\n",
       "       [ 8.33274267],\n",
       "       [ 8.8220884 ],\n",
       "       [ 8.48828154],\n",
       "       [ 5.4476963 ],\n",
       "       [ 7.62471188],\n",
       "       [ 5.24592076],\n",
       "       [ 4.41672512],\n",
       "       [ 4.74211483],\n",
       "       [ 6.93155131],\n",
       "       [ 8.81313157],\n",
       "       [ 4.10723345],\n",
       "       [ 4.06871476],\n",
       "       [ 7.34784626],\n",
       "       [ 4.07565415],\n",
       "       [ 4.48216068],\n",
       "       [ 6.19382519],\n",
       "       [ 5.97658748],\n",
       "       [ 7.16887994],\n",
       "       [ 7.91664561],\n",
       "       [ 7.4733936 ],\n",
       "       [ 3.9913838 ],\n",
       "       [ 2.8513735 ],\n",
       "       [ 8.34878537],\n",
       "       [10.20247622],\n",
       "       [ 6.8661011 ],\n",
       "       [ 6.5397616 ],\n",
       "       [ 8.63100621],\n",
       "       [ 6.3461597 ],\n",
       "       [ 3.67020274],\n",
       "       [ 6.49473397],\n",
       "       [ 4.35804856],\n",
       "       [10.98273906],\n",
       "       [ 7.76712762],\n",
       "       [ 7.91788413],\n",
       "       [ 5.46445461],\n",
       "       [ 8.05946971],\n",
       "       [10.28359156],\n",
       "       [ 8.67670255],\n",
       "       [ 5.503428  ],\n",
       "       [ 8.39441717],\n",
       "       [ 5.70415734],\n",
       "       [ 8.32368651],\n",
       "       [ 7.50507405],\n",
       "       [ 5.08524379],\n",
       "       [ 6.81004133],\n",
       "       [ 7.34824649],\n",
       "       [ 7.93069355],\n",
       "       [ 8.70066281],\n",
       "       [ 4.07338144],\n",
       "       [ 3.7828082 ],\n",
       "       [ 6.66998274],\n",
       "       [ 7.14963165],\n",
       "       [ 6.83761137],\n",
       "       [ 6.78969341],\n",
       "       [ 6.34704747],\n",
       "       [11.45139042],\n",
       "       [ 7.48502742],\n",
       "       [10.82017731],\n",
       "       [ 6.65655727],\n",
       "       [10.73462236],\n",
       "       [ 5.39794594],\n",
       "       [ 9.98585497],\n",
       "       [ 5.7627076 ],\n",
       "       [ 9.0543997 ],\n",
       "       [ 6.57476858],\n",
       "       [ 4.40267774],\n",
       "       [ 8.71966918],\n",
       "       [ 7.10803981],\n",
       "       [11.30755287],\n",
       "       [ 8.47184944],\n",
       "       [ 3.30159393],\n",
       "       [ 6.02364097],\n",
       "       [ 5.60867346],\n",
       "       [ 9.53305329],\n",
       "       [10.56791371],\n",
       "       [ 6.29365697],\n",
       "       [ 9.47236869],\n",
       "       [ 8.94402289],\n",
       "       [ 7.11239376],\n",
       "       [ 2.91687641],\n",
       "       [ 7.37993699],\n",
       "       [ 4.85595227],\n",
       "       [ 4.53516952],\n",
       "       [ 8.20459536],\n",
       "       [ 6.63288068],\n",
       "       [ 6.39265003],\n",
       "       [ 3.05062978],\n",
       "       [ 3.37940105],\n",
       "       [ 4.43032111],\n",
       "       [ 9.78611906],\n",
       "       [ 5.91108013]])"
      ]
     },
     "execution_count": 10,
     "metadata": {},
     "output_type": "execute_result"
    }
   ],
   "source": [
    "y"
   ]
  },
  {
   "cell_type": "code",
   "execution_count": 11,
   "metadata": {},
   "outputs": [
    {
     "data": {
      "text/plain": [
       "[<matplotlib.lines.Line2D at 0x1dc1ec3b8d0>]"
      ]
     },
     "execution_count": 11,
     "metadata": {},
     "output_type": "execute_result"
    },
    {
     "data": {
      "image/png": "[encoded data removed]",
      "text/plain": [
       "<Figure size 432x288 with 1 Axes>"
      ]
     },
     "metadata": {
      "needs_background": "light"
     },
     "output_type": "display_data"
    }
   ],
   "source": [
    "plt.plot(X, y,\"b.\")"
   ]
  },
  {
   "cell_type": "code",
   "execution_count": 12,
   "metadata": {},
   "outputs": [],
   "source": [
    "X_b = np.c_[np.ones((100, 1)), X] \n",
    "mejores_params = np.linalg.inv(X_b.T.dot(X_b)).dot(X_b.T).dot(y)"
   ]
  },
  {
   "cell_type": "code",
   "execution_count": 13,
   "metadata": {},
   "outputs": [
    {
     "data": {
      "text/plain": [
       "array([[4.00450493],\n",
       "       [9.84564308]])"
      ]
     },
     "execution_count": 13,
     "metadata": {},
     "output_type": "execute_result"
    }
   ],
   "source": [
    "X_new = np.array([[0], [2]])\n",
    "X_new_b = np.c_[np.ones((2, 1)), X_new] # add x0 = 1 to each instance \n",
    "y_predict_normal = X_new_b.dot(mejores_params)\n",
    "y_predict_normal\n"
   ]
  },
  {
   "cell_type": "code",
   "execution_count": 14,
   "metadata": {},
   "outputs": [
    {
     "data": {
      "text/plain": [
       "[<matplotlib.lines.Line2D at 0x1dc1ec628d0>]"
      ]
     },
     "execution_count": 14,
     "metadata": {},
     "output_type": "execute_result"
    },
    {
     "data": {
      "image/png": "[encoded data removed]",
      "text/plain": [
       "<Figure size 432x288 with 1 Axes>"
      ]
     },
     "metadata": {
      "needs_background": "light"
     },
     "output_type": "display_data"
    }
   ],
   "source": [
    "plt.plot(X, y, \"b.\")\n",
    "plt.plot(X_new, y_predict_normal, \"r-\")"
   ]
  },
  {
   "cell_type": "code",
   "execution_count": 15,
   "metadata": {},
   "outputs": [
    {
     "data": {
      "text/plain": [
       "LinearRegression(copy_X=True, fit_intercept=True, n_jobs=None,\n",
       "         normalize=False)"
      ]
     },
     "execution_count": 15,
     "metadata": {},
     "output_type": "execute_result"
    }
   ],
   "source": [
    "# Desde scikit learn\n",
    "from sklearn.linear_model import LinearRegression \n",
    "lin_reg = LinearRegression()\n",
    "lin_reg.fit(X, y)"
   ]
  },
  {
   "cell_type": "code",
   "execution_count": 16,
   "metadata": {},
   "outputs": [],
   "source": [
    "y_predict = lin_reg.predict(X_new)"
   ]
  },
  {
   "cell_type": "code",
   "execution_count": 17,
   "metadata": {},
   "outputs": [],
   "source": [
    "# Usando gradiente\n",
    "# Desde scikit learn usamos el modelo SGDRegressor\n",
    "from sklearn.linear_model import SGDRegressor \n",
    "sgd_reg = SGDRegressor()\n"
   ]
  },
  {
   "cell_type": "code",
   "execution_count": 18,
   "metadata": {},
   "outputs": [
    {
     "name": "stderr",
     "output_type": "stream",
     "text": [
      "C:\\Users\\Dicsys\\Anaconda3\\lib\\site-packages\\sklearn\\utils\\validation.py:761: DataConversionWarning: A column-vector y was passed when a 1d array was expected. Please change the shape of y to (n_samples, ), for example using ravel().\n",
      "  y = column_or_1d(y, warn=True)\n"
     ]
    },
    {
     "data": {
      "text/plain": [
       "SGDRegressor(alpha=0.0001, average=False, early_stopping=False, epsilon=0.1,\n",
       "       eta0=0.01, fit_intercept=True, l1_ratio=0.15,\n",
       "       learning_rate='invscaling', loss='squared_loss', max_iter=None,\n",
       "       n_iter=None, n_iter_no_change=5, penalty='l2', power_t=0.25,\n",
       "       random_state=None, shuffle=True, tol=None, validation_fraction=0.1,\n",
       "       verbose=0, warm_start=False)"
      ]
     },
     "execution_count": 18,
     "metadata": {},
     "output_type": "execute_result"
    }
   ],
   "source": [
    "sgd_reg.fit(X, y)"
   ]
  },
  {
   "cell_type": "code",
   "execution_count": 19,
   "metadata": {},
   "outputs": [],
   "source": [
    "sgd_y_predict = sgd_reg.predict(X_new)"
   ]
  },
  {
   "cell_type": "code",
   "execution_count": 20,
   "metadata": {},
   "outputs": [
    {
     "data": {
      "text/plain": [
       "[<matplotlib.lines.Line2D at 0x1dc1f3b2da0>]"
      ]
     },
     "execution_count": 20,
     "metadata": {},
     "output_type": "execute_result"
    },
    {
     "data": {
      "image/png": "[encoded data removed]",
      "text/plain": [
       "<Figure size 432x288 with 1 Axes>"
      ]
     },
     "metadata": {
      "needs_background": "light"
     },
     "output_type": "display_data"
    }
   ],
   "source": [
    "# Graficamos para ver la diferencia con el anterior modelo\n",
    "plt.plot(X, y, \"b.\")\n",
    "plt.plot(X_new, y_predict, \"r-\")\n",
    "plt.plot(X_new, sgd_y_predict, \"g-\")"
   ]
  },
  {
   "cell_type": "markdown",
   "metadata": {},
   "source": [
    "## Árboles de decisión"
   ]
  },
  {
   "cell_type": "markdown",
   "metadata": {},
   "source": [
    "<h2 style=\"color:red\">Clasificación</h2>"
   ]
  },
  {
   "cell_type": "code",
   "execution_count": 21,
   "metadata": {},
   "outputs": [],
   "source": [
    "df = pd.DataFrame({\"peso\":[0.2, 0.3, 0.4, 0.4, 0.6, 0.4],\n",
    "                   \"precio\":[2,4, 3, 5, 4,3],\n",
    "                   \"nombre\":['manzana', 'manzana','naranja','manzana','naranja','manzana'] })"
   ]
  },
  {
   "cell_type": "code",
   "execution_count": 22,
   "metadata": {},
   "outputs": [
    {
     "data": {
      "text/html": [
       "<div>\n",
       "<style scoped>\n",
       "    .dataframe tbody tr th:only-of-type {\n",
       "        vertical-align: middle;\n",
       "    }\n",
       "\n",
       "    .dataframe tbody tr th {\n",
       "        vertical-align: top;\n",
       "    }\n",
       "\n",
       "    .dataframe thead th {\n",
       "        text-align: right;\n",
       "    }\n",
       "</style>\n",
       "<table border=\"1\" class=\"dataframe\">\n",
       "  <thead>\n",
       "    <tr style=\"text-align: right;\">\n",
       "      <th></th>\n",
       "      <th>peso</th>\n",
       "      <th>precio</th>\n",
       "      <th>nombre</th>\n",
       "    </tr>\n",
       "  </thead>\n",
       "  <tbody>\n",
       "    <tr>\n",
       "      <th>0</th>\n",
       "      <td>0.2</td>\n",
       "      <td>2</td>\n",
       "      <td>manzana</td>\n",
       "    </tr>\n",
       "    <tr>\n",
       "      <th>1</th>\n",
       "      <td>0.3</td>\n",
       "      <td>4</td>\n",
       "      <td>manzana</td>\n",
       "    </tr>\n",
       "    <tr>\n",
       "      <th>2</th>\n",
       "      <td>0.4</td>\n",
       "      <td>3</td>\n",
       "      <td>naranja</td>\n",
       "    </tr>\n",
       "    <tr>\n",
       "      <th>3</th>\n",
       "      <td>0.4</td>\n",
       "      <td>5</td>\n",
       "      <td>manzana</td>\n",
       "    </tr>\n",
       "    <tr>\n",
       "      <th>4</th>\n",
       "      <td>0.6</td>\n",
       "      <td>4</td>\n",
       "      <td>naranja</td>\n",
       "    </tr>\n",
       "    <tr>\n",
       "      <th>5</th>\n",
       "      <td>0.4</td>\n",
       "      <td>3</td>\n",
       "      <td>manzana</td>\n",
       "    </tr>\n",
       "  </tbody>\n",
       "</table>\n",
       "</div>"
      ],
      "text/plain": [
       "   peso  precio   nombre\n",
       "0   0.2       2  manzana\n",
       "1   0.3       4  manzana\n",
       "2   0.4       3  naranja\n",
       "3   0.4       5  manzana\n",
       "4   0.6       4  naranja\n",
       "5   0.4       3  manzana"
      ]
     },
     "execution_count": 22,
     "metadata": {},
     "output_type": "execute_result"
    }
   ],
   "source": [
    "df"
   ]
  },
  {
   "cell_type": "code",
   "execution_count": 23,
   "metadata": {},
   "outputs": [],
   "source": [
    "from sklearn.tree import DecisionTreeClassifier\n",
    "from sklearn import datasets\n",
    "from IPython.display import Image  \n",
    "from sklearn import tree\n",
    "import pydotplus"
   ]
  },
  {
   "cell_type": "code",
   "execution_count": 24,
   "metadata": {},
   "outputs": [],
   "source": [
    "X = df[['peso','precio']]\n",
    "y = df['nombre']"
   ]
  },
  {
   "cell_type": "code",
   "execution_count": 25,
   "metadata": {},
   "outputs": [],
   "source": [
    "clf = DecisionTreeClassifier()\n",
    "model = clf.fit(X, y)"
   ]
  },
  {
   "cell_type": "code",
   "execution_count": 26,
   "metadata": {},
   "outputs": [
    {
     "data": {
      "text/plain": [
       "array(['manzana'], dtype=object)"
      ]
     },
     "execution_count": 26,
     "metadata": {},
     "output_type": "execute_result"
    }
   ],
   "source": [
    "clf.predict([[0.4, 4]])"
   ]
  },
  {
   "cell_type": "code",
   "execution_count": 27,
   "metadata": {},
   "outputs": [
    {
     "data": {
      "image/png": "[encoded data removed]",
      "text/plain": [
       "<IPython.core.display.Image object>"
      ]
     },
     "execution_count": 27,
     "metadata": {},
     "output_type": "execute_result"
    }
   ],
   "source": [
    "dot_data = tree.export_graphviz(clf, out_file=None, \n",
    "                                feature_names=['peso', 'precio'],\n",
    "                                class_names=['manzana','naranja'])\n",
    "\n",
    "graph = pydotplus.graph_from_dot_data(dot_data)  \n",
    "Image(graph.create_png())"
   ]
  },
  {
   "cell_type": "markdown",
   "metadata": {},
   "source": [
    "<h2 style=\"color:red\">Regresión</h2>"
   ]
  },
  {
   "cell_type": "code",
   "execution_count": 28,
   "metadata": {},
   "outputs": [],
   "source": [
    "df = pd.DataFrame({\"peso\":[0.2, 0.3, 0.4, 0.4, 0.6, 0.4],\n",
    "                   \"precio\":[2,4, 3, 5, 4,3],\n",
    "                   \"diametro\":[0.2,0.4, 0.3, 0.5, 0.4,0.3] })"
   ]
  },
  {
   "cell_type": "code",
   "execution_count": 29,
   "metadata": {},
   "outputs": [
    {
     "data": {
      "text/html": [
       "<div>\n",
       "<style scoped>\n",
       "    .dataframe tbody tr th:only-of-type {\n",
       "        vertical-align: middle;\n",
       "    }\n",
       "\n",
       "    .dataframe tbody tr th {\n",
       "        vertical-align: top;\n",
       "    }\n",
       "\n",
       "    .dataframe thead th {\n",
       "        text-align: right;\n",
       "    }\n",
       "</style>\n",
       "<table border=\"1\" class=\"dataframe\">\n",
       "  <thead>\n",
       "    <tr style=\"text-align: right;\">\n",
       "      <th></th>\n",
       "      <th>peso</th>\n",
       "      <th>precio</th>\n",
       "      <th>diametro</th>\n",
       "    </tr>\n",
       "  </thead>\n",
       "  <tbody>\n",
       "    <tr>\n",
       "      <th>0</th>\n",
       "      <td>0.2</td>\n",
       "      <td>2</td>\n",
       "      <td>0.2</td>\n",
       "    </tr>\n",
       "    <tr>\n",
       "      <th>1</th>\n",
       "      <td>0.3</td>\n",
       "      <td>4</td>\n",
       "      <td>0.4</td>\n",
       "    </tr>\n",
       "    <tr>\n",
       "      <th>2</th>\n",
       "      <td>0.4</td>\n",
       "      <td>3</td>\n",
       "      <td>0.3</td>\n",
       "    </tr>\n",
       "    <tr>\n",
       "      <th>3</th>\n",
       "      <td>0.4</td>\n",
       "      <td>5</td>\n",
       "      <td>0.5</td>\n",
       "    </tr>\n",
       "    <tr>\n",
       "      <th>4</th>\n",
       "      <td>0.6</td>\n",
       "      <td>4</td>\n",
       "      <td>0.4</td>\n",
       "    </tr>\n",
       "    <tr>\n",
       "      <th>5</th>\n",
       "      <td>0.4</td>\n",
       "      <td>3</td>\n",
       "      <td>0.3</td>\n",
       "    </tr>\n",
       "  </tbody>\n",
       "</table>\n",
       "</div>"
      ],
      "text/plain": [
       "   peso  precio  diametro\n",
       "0   0.2       2       0.2\n",
       "1   0.3       4       0.4\n",
       "2   0.4       3       0.3\n",
       "3   0.4       5       0.5\n",
       "4   0.6       4       0.4\n",
       "5   0.4       3       0.3"
      ]
     },
     "execution_count": 29,
     "metadata": {},
     "output_type": "execute_result"
    }
   ],
   "source": [
    "df"
   ]
  },
  {
   "cell_type": "code",
   "execution_count": 30,
   "metadata": {},
   "outputs": [],
   "source": [
    "from sklearn.tree import DecisionTreeRegressor"
   ]
  },
  {
   "cell_type": "code",
   "execution_count": 31,
   "metadata": {},
   "outputs": [],
   "source": [
    "X = df[['peso','precio']]\n",
    "y = df['diametro']"
   ]
  },
  {
   "cell_type": "code",
   "execution_count": 32,
   "metadata": {},
   "outputs": [],
   "source": [
    "clf = DecisionTreeRegressor()\n",
    "model = clf.fit(X, y)"
   ]
  },
  {
   "cell_type": "code",
   "execution_count": 33,
   "metadata": {},
   "outputs": [
    {
     "data": {
      "text/plain": [
       "array([0.5])"
      ]
     },
     "execution_count": 33,
     "metadata": {},
     "output_type": "execute_result"
    }
   ],
   "source": [
    "clf.predict([[0.3, 5]])"
   ]
  },
  {
   "cell_type": "code",
   "execution_count": 34,
   "metadata": {},
   "outputs": [
    {
     "data": {
      "image/png": "[encoded data removed]",
      "text/plain": [
       "<IPython.core.display.Image object>"
      ]
     },
     "execution_count": 34,
     "metadata": {},
     "output_type": "execute_result"
    }
   ],
   "source": [
    "dot_data_r = tree.export_graphviz(clf, out_file=None, \n",
    "                                  feature_names=['peso', 'precio'],\n",
    "                                  class_names=['diametro'])\n",
    "\n",
    "graph = pydotplus.graph_from_dot_data(dot_data_r)  \n",
    "Image(graph.create_png())"
   ]
  },
  {
   "cell_type": "markdown",
   "metadata": {},
   "source": [
    "## KNN"
   ]
  },
  {
   "cell_type": "code",
   "execution_count": 35,
   "metadata": {},
   "outputs": [],
   "source": [
    "import numpy as np\n",
    "from sklearn import datasets\n",
    "iris = datasets.load_iris()\n",
    "iris_X = iris.data\n",
    "iris_y = iris.target\n"
   ]
  },
  {
   "cell_type": "code",
   "execution_count": 36,
   "metadata": {},
   "outputs": [
    {
     "data": {
      "text/plain": [
       "array([1, 2, 1, 0, 0, 0, 2, 1, 2, 0])"
      ]
     },
     "execution_count": 36,
     "metadata": {},
     "output_type": "execute_result"
    }
   ],
   "source": [
    "# Split iris data in train and test data\n",
    "# A random permutation, to split the data randomly\n",
    "np.random.seed(0)\n",
    "indices = np.random.permutation(len(iris_X))\n",
    "iris_X_train = iris_X[indices[:-10]]\n",
    "iris_y_train = iris_y[indices[:-10]]\n",
    "iris_X_test  = iris_X[indices[-10:]]\n",
    "iris_y_test  = iris_y[indices[-10:]]\n",
    "# Create and fit a nearest-neighbor classifier\n",
    "from sklearn.neighbors import KNeighborsClassifier\n",
    "knn = KNeighborsClassifier()\n",
    "knn.fit(iris_X_train, iris_y_train) \n",
    "\n",
    "knn.predict(iris_X_test)\n",
    "\n",
    "\n"
   ]
  },
  {
   "cell_type": "code",
   "execution_count": 37,
   "metadata": {},
   "outputs": [
    {
     "data": {
      "text/plain": [
       "array([1, 1, 1, 0, 0, 0, 2, 1, 2, 0])"
      ]
     },
     "execution_count": 37,
     "metadata": {},
     "output_type": "execute_result"
    }
   ],
   "source": [
    "iris_y_test"
   ]
  },
  {
   "cell_type": "markdown",
   "metadata": {},
   "source": [
    "## Visualización KNN"
   ]
  },
  {
   "cell_type": "code",
   "execution_count": 39,
   "metadata": {},
   "outputs": [
    {
     "data": {
      "image/png": "[encoded data removed]",
      "text/plain": [
       "<Figure size 432x288 with 1 Axes>"
      ]
     },
     "metadata": {
      "needs_background": "light"
     },
     "output_type": "display_data"
    }
   ],
   "source": [
    "# Ejemplo tomado de scikit-learn  \n",
    "# http://scikit-learn.org/stable/auto_examples/neighbors/plot_nearest_centroid.html#sphx-glr-auto-examples-neighbors-plot-nearest-centroid-py\n",
    "import numpy as np\n",
    "import matplotlib.pyplot as plt\n",
    "from matplotlib.colors import ListedColormap\n",
    "from sklearn import neighbors, datasets\n",
    "\n",
    "n_neighbors = 3\n",
    "\n",
    "# import some data to play with\n",
    "iris = datasets.load_iris()\n",
    "\n",
    "# we only take the first two features. We could avoid this ugly\n",
    "# slicing by using a two-dim dataset\n",
    "X = iris.data[:, :2]\n",
    "y = iris.target\n",
    "\n",
    "h = .02  # step size in the mesh\n",
    "\n",
    "# Create color maps\n",
    "cmap_light = ListedColormap(['#FFAAAA', '#AAFFAA', '#AAAAFF'])\n",
    "cmap_bold = ListedColormap(['#FF0000', '#00FF00', '#0000FF'])\n",
    "\n",
    "\n",
    "    # we create an instance of Neighbours Classifier and fit the data.\n",
    "clf = neighbors.KNeighborsClassifier(n_neighbors)\n",
    "clf.fit(X, y)\n",
    "\n",
    "# Plot the decision boundary. For that, we will assign a color to each\n",
    "# point in the mesh [x_min, x_max]x[y_min, y_max].\n",
    "x_min, x_max = X[:, 0].min() - 1, X[:, 0].max() + 1\n",
    "y_min, y_max = X[:, 1].min() - 1, X[:, 1].max() + 1\n",
    "xx, yy = np.meshgrid(np.arange(x_min, x_max, h),\n",
    "                     np.arange(y_min, y_max, h))\n",
    "Z = clf.predict(np.c_[xx.ravel(), yy.ravel()])\n",
    "\n",
    "# Put the result into a color plot\n",
    "Z = Z.reshape(xx.shape)\n",
    "plt.figure()\n",
    "plt.pcolormesh(xx, yy, Z, cmap=cmap_light)\n",
    "\n",
    "# Plot also the training points\n",
    "plt.scatter(X[:, 0], X[:, 1], c=y, cmap=cmap_bold,\n",
    "            edgecolor='k', s=20)\n",
    "plt.xlim(xx.min(), xx.max())\n",
    "plt.ylim(yy.min(), yy.max())\n",
    "plt.title(\"3-Class classification (k = %i)\"\n",
    "          % (n_neighbors))\n",
    "\n",
    "plt.show()"
   ]
  }
 ],
 "metadata": {
  "kernelspec": {
   "display_name": "Python 3",
   "language": "python",
   "name": "python3"
  },
  "language_info": {
   "codemirror_mode": {
    "name": "ipython",
    "version": 3
   },
   "file_extension": ".py",
   "mimetype": "text/x-python",
   "name": "python",
   "nbconvert_exporter": "python",
   "pygments_lexer": "ipython3",
   "version": "3.7.0"
  }
 },
 "nbformat": 4,
 "nbformat_minor": 2
}
