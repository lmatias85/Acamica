{
 "cells": [
  {
   "cell_type": "code",
   "execution_count": 1,
   "metadata": {},
   "outputs": [],
   "source": [
    "import tweepy\n",
    "import time"
   ]
  },
  {
   "cell_type": "code",
   "execution_count": 2,
   "metadata": {},
   "outputs": [],
   "source": [
    "auth = tweepy.OAuthHandler('iZESYdeQgaXgJkQJR5yFtsgFh', 'mhSRqwX1Xfu3ZciBtspWhk6krGyjNOAiNU8ykqXTBeGWq3Mj6F')"
   ]
  },
  {
   "cell_type": "code",
   "execution_count": 3,
   "metadata": {},
   "outputs": [],
   "source": [
    "auth.set_access_token('2302002180-4d0ByXp8z7OeGIJloHAzNpsTT86WK5QyhiyTqVv', 'DMWVYonh2q2UXn7rI4v84AiHX0vjQ4w7taVx3X8xc3Zw6')"
   ]
  },
  {
   "cell_type": "code",
   "execution_count": 4,
   "metadata": {},
   "outputs": [],
   "source": [
    "api = tweepy.API(auth)"
   ]
  },
  {
   "cell_type": "code",
   "execution_count": 47,
   "metadata": {},
   "outputs": [],
   "source": [
    "import tweepy\n",
    "\n",
    "class listener(tweepy.StreamListener):\n",
    "    \n",
    "    def __init__(self, time_limit=60):\n",
    "        self.start_time = time.time()\n",
    "        self.limit = time_limit\n",
    "        self.file = open('tweets.csv', 'a')\n",
    "        self.fjason = open('data_tweet.json', 'a')\n",
    "        super(listener, self).__init__()\n",
    "    \n",
    "    def on_data(self, data):\n",
    "        if (time.time() - self.start_time) < self.limit:\n",
    "            created_at = data.split('created_at\":\"')[1].split('\",\"id\":')[0]\n",
    "            try:\n",
    "                text = data.split('\"full_text\":\"')[1].split('\",\"display')[0]\n",
    "            except:\n",
    "                text = data.split('\",\"text\":\"')[1].split('\",\"source')[0]\n",
    "            self.file.write(text)\n",
    "            self.file.write('\\n')\n",
    "            self.fjason.write(data)\n",
    "            self.fjason.write('\\n')\n",
    "            return True\n",
    "        else:\n",
    "            self.file.close()\n",
    "            return False\n",
    "    \n",
    "    def on_status(self, status):\n",
    "        print(status.text)"
   ]
  },
  {
   "cell_type": "code",
   "execution_count": 48,
   "metadata": {},
   "outputs": [],
   "source": [
    "myStream = tweepy.Stream(auth = api.auth, listener=listener(time_limit=20))"
   ]
  },
  {
   "cell_type": "code",
   "execution_count": 49,
   "metadata": {},
   "outputs": [],
   "source": [
    "myStream.filter(track=[\"Kirchner\"], languages=[\"es\"])"
   ]
  }
 ],
 "metadata": {
  "kernelspec": {
   "display_name": "Python 3",
   "language": "python",
   "name": "python3"
  },
  "language_info": {
   "codemirror_mode": {
    "name": "ipython",
    "version": 3
   },
   "file_extension": ".py",
   "mimetype": "text/x-python",
   "name": "python",
   "nbconvert_exporter": "python",
   "pygments_lexer": "ipython3",
   "version": "3.7.1"
  }
 },
 "nbformat": 4,
 "nbformat_minor": 2
}
