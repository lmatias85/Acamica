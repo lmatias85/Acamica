{
 "cells": [
  {
   "cell_type": "markdown",
   "metadata": {},
   "source": [
    "## Clasificación avanzada"
   ]
  },
  {
   "cell_type": "markdown",
   "metadata": {},
   "source": [
    "#### SVM"
   ]
  },
  {
   "cell_type": "markdown",
   "metadata": {},
   "source": [
    "El siguiente ejemplo fue tomado de la documentación oficial de scikit-learn \n",
    "\n",
    "https://scikit-learn.org/stable/tutorial/text_analytics/working_with_text_data.html"
   ]
  },
  {
   "cell_type": "code",
   "execution_count": 1,
   "metadata": {},
   "outputs": [
    {
     "name": "stderr",
     "output_type": "stream",
     "text": [
      "Downloading 20news dataset. This may take a few minutes.\n",
      "Downloading dataset from https://ndownloader.figshare.com/files/5975967 (14 MB)\n"
     ]
    }
   ],
   "source": [
    "import warnings\n",
    "warnings.filterwarnings('ignore')\n",
    "\n",
    "from sklearn.datasets import fetch_20newsgroups\n",
    "\n",
    "categories = ['alt.atheism', 'soc.religion.christian', \n",
    "              'comp.graphics', 'sci.med']\n",
    "\n",
    "twenty_train = fetch_20newsgroups(subset='train', \n",
    "                                  categories=categories, \n",
    "                                  shuffle=True, random_state=42)\n",
    "\n",
    "twenty_test = fetch_20newsgroups(subset='test',\n",
    "                                 categories=categories, \n",
    "                                 shuffle=True, random_state=42)"
   ]
  },
  {
   "cell_type": "code",
   "execution_count": 2,
   "metadata": {},
   "outputs": [
    {
     "data": {
      "text/plain": [
       "(2257, 35788)"
      ]
     },
     "execution_count": 2,
     "metadata": {},
     "output_type": "execute_result"
    }
   ],
   "source": [
    "from sklearn.feature_extraction.text import TfidfVectorizer\n",
    "X_train_tf = TfidfVectorizer(use_idf=False).fit_transform(twenty_train.data)\n",
    "X_train_tf.shape\n"
   ]
  },
  {
   "cell_type": "code",
   "execution_count": 3,
   "metadata": {},
   "outputs": [],
   "source": [
    "from sklearn.svm import SVC\n",
    "\n",
    "from sklearn.pipeline import Pipeline\n",
    "text_clf = Pipeline([('tfidf', TfidfVectorizer()),\n",
    "                     ('clf', SVC(kernel='linear'))])"
   ]
  },
  {
   "cell_type": "code",
   "execution_count": 4,
   "metadata": {},
   "outputs": [
    {
     "data": {
      "text/plain": [
       "0.9207723035952063"
      ]
     },
     "execution_count": 4,
     "metadata": {},
     "output_type": "execute_result"
    }
   ],
   "source": [
    "import numpy as np\n",
    "text_clf.fit(twenty_train.data, twenty_train.target)  \n",
    "predicted = text_clf.predict(twenty_test.data)\n",
    "# Calculamos accuracy:\n",
    "np.mean(predicted == twenty_test.target)"
   ]
  },
  {
   "cell_type": "code",
   "execution_count": 5,
   "metadata": {},
   "outputs": [],
   "source": [
    "tf_idf = TfidfVectorizer()\n",
    "X_train = tf_idf.fit_transform(twenty_train.data)\n",
    "X_test = tf_idf.transform(twenty_test.data)\n",
    "y_train = twenty_train.target\n",
    "y_test = twenty_test.target"
   ]
  },
  {
   "cell_type": "markdown",
   "metadata": {},
   "source": [
    "#### Voting"
   ]
  },
  {
   "cell_type": "code",
   "execution_count": 6,
   "metadata": {},
   "outputs": [],
   "source": [
    "from sklearn.metrics import accuracy_score"
   ]
  },
  {
   "cell_type": "code",
   "execution_count": 7,
   "metadata": {},
   "outputs": [
    {
     "name": "stdout",
     "output_type": "stream",
     "text": [
      "SVC 0.9207723035952063\n",
      "SGDClassifier 0.9154460719041279\n",
      "VotingClassifier 0.9274300932090546\n"
     ]
    }
   ],
   "source": [
    "from sklearn.linear_model import SGDClassifier\n",
    "from sklearn.svm import SVC\n",
    "from sklearn.ensemble import VotingClassifier\n",
    "\n",
    "svc_clf = SVC(kernel='linear', probability=True) #  para soft\n",
    "sgd_clf = SGDClassifier(loss='log') #  para soft\n",
    "voting_clf = VotingClassifier(\n",
    "estimators=[('svc', svc_clf), ('sgd', sgd_clf)],voting='soft')\n",
    "\n",
    "\n",
    "for clf in (svc_clf, sgd_clf, voting_clf):\n",
    "    clf.fit(X_train, y_train)\n",
    "    y_pred = clf.predict(X_test)\n",
    "    print(clf.__class__.__name__, accuracy_score(y_test, y_pred))"
   ]
  },
  {
   "cell_type": "markdown",
   "metadata": {},
   "source": [
    "#### Bagging"
   ]
  },
  {
   "cell_type": "code",
   "execution_count": 8,
   "metadata": {},
   "outputs": [],
   "source": [
    "from sklearn.tree import DecisionTreeClassifier\n",
    "clf = DecisionTreeClassifier()\n",
    "clf.fit(X_train, y_train)\n",
    "y_pred = clf.predict(X_test)"
   ]
  },
  {
   "cell_type": "code",
   "execution_count": 9,
   "metadata": {},
   "outputs": [
    {
     "data": {
      "text/plain": [
       "0.7190412782956058"
      ]
     },
     "execution_count": 9,
     "metadata": {},
     "output_type": "execute_result"
    }
   ],
   "source": [
    "accuracy_score(y_test, y_pred)"
   ]
  },
  {
   "cell_type": "code",
   "execution_count": 10,
   "metadata": {},
   "outputs": [],
   "source": [
    "from sklearn.ensemble import BaggingClassifier\n",
    "\n",
    "bag_clf = BaggingClassifier(DecisionTreeClassifier(),n_estimators=200, n_jobs=-1)\n",
    "bag_clf.fit(X_train, y_train)\n",
    "y_pred = bag_clf.predict(X_test)"
   ]
  },
  {
   "cell_type": "code",
   "execution_count": 11,
   "metadata": {},
   "outputs": [
    {
     "data": {
      "text/plain": [
       "0.8029294274300932"
      ]
     },
     "execution_count": 11,
     "metadata": {},
     "output_type": "execute_result"
    }
   ],
   "source": [
    "accuracy_score(y_test, y_pred)"
   ]
  },
  {
   "cell_type": "markdown",
   "metadata": {},
   "source": [
    "#### RandomForest"
   ]
  },
  {
   "cell_type": "code",
   "execution_count": 12,
   "metadata": {
    "scrolled": true
   },
   "outputs": [
    {
     "data": {
      "text/plain": [
       "0.8129161118508655"
      ]
     },
     "execution_count": 12,
     "metadata": {},
     "output_type": "execute_result"
    }
   ],
   "source": [
    "from sklearn.ensemble import RandomForestClassifier\n",
    "rnd_clf = RandomForestClassifier(n_estimators=200, n_jobs=-1)\n",
    "rnd_clf.fit(X_train, y_train)\n",
    "y_pred = rnd_clf.predict(X_test)\n",
    "accuracy_score(y_test, y_pred)"
   ]
  },
  {
   "cell_type": "markdown",
   "metadata": {},
   "source": [
    "#### Boosting"
   ]
  },
  {
   "cell_type": "markdown",
   "metadata": {},
   "source": [
    "#### AdaBoost"
   ]
  },
  {
   "cell_type": "code",
   "execution_count": 13,
   "metadata": {},
   "outputs": [
    {
     "data": {
      "text/plain": [
       "AdaBoostClassifier(algorithm='SAMME.R',\n",
       "          base_estimator=DecisionTreeClassifier(class_weight=None, criterion='gini', max_depth=1,\n",
       "            max_features=None, max_leaf_nodes=None,\n",
       "            min_impurity_decrease=0.0, min_impurity_split=None,\n",
       "            min_samples_leaf=1, min_samples_split=2,\n",
       "            min_weight_fraction_leaf=0.0, presort=False, random_state=None,\n",
       "            splitter='best'),\n",
       "          learning_rate=1.0, n_estimators=1500, random_state=None)"
      ]
     },
     "execution_count": 13,
     "metadata": {},
     "output_type": "execute_result"
    }
   ],
   "source": [
    "from sklearn.ensemble import AdaBoostClassifier\n",
    "ada_clf = AdaBoostClassifier(\n",
    "     DecisionTreeClassifier(max_depth=1), n_estimators=1500,\n",
    "     algorithm=\"SAMME.R\"\n",
    " )\n",
    "ada_clf.fit(X_train, y_train)"
   ]
  },
  {
   "cell_type": "code",
   "execution_count": 14,
   "metadata": {},
   "outputs": [
    {
     "data": {
      "text/plain": [
       "0.7723035952063915"
      ]
     },
     "execution_count": 14,
     "metadata": {},
     "output_type": "execute_result"
    }
   ],
   "source": [
    "y_pred = ada_clf.predict(X_test)\n",
    "accuracy_score(y_test, y_pred)"
   ]
  },
  {
   "cell_type": "markdown",
   "metadata": {},
   "source": [
    "#### XgBoost"
   ]
  },
  {
   "cell_type": "code",
   "execution_count": 19,
   "metadata": {},
   "outputs": [],
   "source": [
    "# pip install xgboost\n",
    "\n",
    "from xgboost import XGBClassifier"
   ]
  },
  {
   "cell_type": "code",
   "execution_count": 20,
   "metadata": {},
   "outputs": [
    {
     "data": {
      "text/plain": [
       "XGBClassifier(base_score=0.5, booster='gbtree', colsample_bylevel=1,\n",
       "       colsample_bytree=1, gamma=0, learning_rate=0.1, max_delta_step=0,\n",
       "       max_depth=3, min_child_weight=1, missing=None, n_estimators=100,\n",
       "       n_jobs=1, nthread=None, objective='multi:softprob', random_state=0,\n",
       "       reg_alpha=0, reg_lambda=1, scale_pos_weight=1, seed=None,\n",
       "       silent=True, subsample=1)"
      ]
     },
     "execution_count": 20,
     "metadata": {},
     "output_type": "execute_result"
    }
   ],
   "source": [
    "xgb_clf = XGBClassifier()\n",
    "xgb_clf.fit(X_train, y_train)"
   ]
  },
  {
   "cell_type": "code",
   "execution_count": 21,
   "metadata": {},
   "outputs": [
    {
     "data": {
      "text/plain": [
       "0.8681757656458056"
      ]
     },
     "execution_count": 21,
     "metadata": {},
     "output_type": "execute_result"
    }
   ],
   "source": [
    "y_pred = xgb_clf.predict(X_test)\n",
    "accuracy_score(y_test, y_pred)"
   ]
  },
  {
   "cell_type": "markdown",
   "metadata": {},
   "source": [
    "#### LightGBM"
   ]
  },
  {
   "cell_type": "code",
   "execution_count": 23,
   "metadata": {},
   "outputs": [],
   "source": [
    "# conda install -c conda-forge lightgbm\n",
    "import lightgbm as lgb"
   ]
  },
  {
   "cell_type": "code",
   "execution_count": 24,
   "metadata": {},
   "outputs": [
    {
     "name": "stdout",
     "output_type": "stream",
     "text": [
      "[1]\tvalid_0's multi_logloss: 1.27964\n",
      "[2]\tvalid_0's multi_logloss: 1.19555\n",
      "[3]\tvalid_0's multi_logloss: 1.12404\n",
      "[4]\tvalid_0's multi_logloss: 1.06169\n",
      "[5]\tvalid_0's multi_logloss: 1.00366\n",
      "[6]\tvalid_0's multi_logloss: 0.952655\n",
      "[7]\tvalid_0's multi_logloss: 0.909478\n",
      "[8]\tvalid_0's multi_logloss: 0.869212\n",
      "[9]\tvalid_0's multi_logloss: 0.8343\n",
      "[10]\tvalid_0's multi_logloss: 0.80072\n",
      "[11]\tvalid_0's multi_logloss: 0.771599\n",
      "[12]\tvalid_0's multi_logloss: 0.743307\n",
      "[13]\tvalid_0's multi_logloss: 0.71649\n",
      "[14]\tvalid_0's multi_logloss: 0.691686\n",
      "[15]\tvalid_0's multi_logloss: 0.667471\n",
      "[16]\tvalid_0's multi_logloss: 0.64493\n",
      "[17]\tvalid_0's multi_logloss: 0.625319\n",
      "[18]\tvalid_0's multi_logloss: 0.607054\n",
      "[19]\tvalid_0's multi_logloss: 0.589882\n",
      "[20]\tvalid_0's multi_logloss: 0.573306\n",
      "[21]\tvalid_0's multi_logloss: 0.557896\n",
      "[22]\tvalid_0's multi_logloss: 0.545648\n",
      "[23]\tvalid_0's multi_logloss: 0.531141\n",
      "[24]\tvalid_0's multi_logloss: 0.518963\n",
      "[25]\tvalid_0's multi_logloss: 0.50745\n",
      "[26]\tvalid_0's multi_logloss: 0.495493\n",
      "[27]\tvalid_0's multi_logloss: 0.485438\n",
      "[28]\tvalid_0's multi_logloss: 0.477023\n",
      "[29]\tvalid_0's multi_logloss: 0.467908\n",
      "[30]\tvalid_0's multi_logloss: 0.460349\n",
      "[31]\tvalid_0's multi_logloss: 0.452824\n",
      "[32]\tvalid_0's multi_logloss: 0.44535\n",
      "[33]\tvalid_0's multi_logloss: 0.440778\n",
      "[34]\tvalid_0's multi_logloss: 0.434789\n",
      "[35]\tvalid_0's multi_logloss: 0.429554\n",
      "[36]\tvalid_0's multi_logloss: 0.424731\n",
      "[37]\tvalid_0's multi_logloss: 0.420727\n",
      "[38]\tvalid_0's multi_logloss: 0.415916\n",
      "[39]\tvalid_0's multi_logloss: 0.410506\n",
      "[40]\tvalid_0's multi_logloss: 0.405929\n",
      "[41]\tvalid_0's multi_logloss: 0.401275\n",
      "[42]\tvalid_0's multi_logloss: 0.397139\n",
      "[43]\tvalid_0's multi_logloss: 0.393724\n",
      "[44]\tvalid_0's multi_logloss: 0.391484\n",
      "[45]\tvalid_0's multi_logloss: 0.388863\n",
      "[46]\tvalid_0's multi_logloss: 0.386483\n",
      "[47]\tvalid_0's multi_logloss: 0.383164\n",
      "[48]\tvalid_0's multi_logloss: 0.380257\n",
      "[49]\tvalid_0's multi_logloss: 0.37788\n",
      "[50]\tvalid_0's multi_logloss: 0.374958\n",
      "[51]\tvalid_0's multi_logloss: 0.372049\n",
      "[52]\tvalid_0's multi_logloss: 0.369979\n",
      "[53]\tvalid_0's multi_logloss: 0.367174\n",
      "[54]\tvalid_0's multi_logloss: 0.364912\n",
      "[55]\tvalid_0's multi_logloss: 0.363081\n",
      "[56]\tvalid_0's multi_logloss: 0.361941\n",
      "[57]\tvalid_0's multi_logloss: 0.360706\n",
      "[58]\tvalid_0's multi_logloss: 0.359495\n",
      "[59]\tvalid_0's multi_logloss: 0.358577\n",
      "[60]\tvalid_0's multi_logloss: 0.357301\n",
      "[61]\tvalid_0's multi_logloss: 0.355682\n",
      "[62]\tvalid_0's multi_logloss: 0.354078\n",
      "[63]\tvalid_0's multi_logloss: 0.353084\n",
      "[64]\tvalid_0's multi_logloss: 0.352493\n",
      "[65]\tvalid_0's multi_logloss: 0.351394\n",
      "[66]\tvalid_0's multi_logloss: 0.350848\n",
      "[67]\tvalid_0's multi_logloss: 0.349802\n",
      "[68]\tvalid_0's multi_logloss: 0.349381\n",
      "[69]\tvalid_0's multi_logloss: 0.348103\n",
      "[70]\tvalid_0's multi_logloss: 0.349025\n",
      "[71]\tvalid_0's multi_logloss: 0.348686\n",
      "[72]\tvalid_0's multi_logloss: 0.34785\n",
      "[73]\tvalid_0's multi_logloss: 0.347273\n",
      "[74]\tvalid_0's multi_logloss: 0.347436\n",
      "[75]\tvalid_0's multi_logloss: 0.345939\n",
      "[76]\tvalid_0's multi_logloss: 0.345246\n",
      "[77]\tvalid_0's multi_logloss: 0.345839\n",
      "[78]\tvalid_0's multi_logloss: 0.345338\n",
      "[79]\tvalid_0's multi_logloss: 0.344877\n",
      "[80]\tvalid_0's multi_logloss: 0.345054\n",
      "[81]\tvalid_0's multi_logloss: 0.34475\n",
      "[82]\tvalid_0's multi_logloss: 0.345304\n",
      "[83]\tvalid_0's multi_logloss: 0.345114\n",
      "[84]\tvalid_0's multi_logloss: 0.345198\n",
      "[85]\tvalid_0's multi_logloss: 0.34532\n",
      "[86]\tvalid_0's multi_logloss: 0.34543\n",
      "[87]\tvalid_0's multi_logloss: 0.34583\n",
      "[88]\tvalid_0's multi_logloss: 0.346389\n",
      "[89]\tvalid_0's multi_logloss: 0.346567\n",
      "[90]\tvalid_0's multi_logloss: 0.346937\n",
      "[91]\tvalid_0's multi_logloss: 0.347928\n",
      "[92]\tvalid_0's multi_logloss: 0.347862\n",
      "[93]\tvalid_0's multi_logloss: 0.34812\n",
      "[94]\tvalid_0's multi_logloss: 0.348218\n",
      "[95]\tvalid_0's multi_logloss: 0.348454\n",
      "[96]\tvalid_0's multi_logloss: 0.349086\n",
      "[97]\tvalid_0's multi_logloss: 0.34822\n",
      "[98]\tvalid_0's multi_logloss: 0.348068\n",
      "[99]\tvalid_0's multi_logloss: 0.348052\n",
      "[100]\tvalid_0's multi_logloss: 0.348362\n"
     ]
    },
    {
     "data": {
      "text/plain": [
       "LGBMClassifier(boosting_type='gbdt', class_weight=None, colsample_bytree=1.0,\n",
       "        importance_type='split', learning_rate=0.1, max_depth=-1,\n",
       "        min_child_samples=20, min_child_weight=0.001, min_split_gain=0.0,\n",
       "        n_estimators=100, n_jobs=-1, num_leaves=31, objective=None,\n",
       "        random_state=None, reg_alpha=0.0, reg_lambda=0.0, silent=True,\n",
       "        subsample=1.0, subsample_for_bin=200000, subsample_freq=0)"
      ]
     },
     "execution_count": 24,
     "metadata": {},
     "output_type": "execute_result"
    }
   ],
   "source": [
    "gbm = lgb.LGBMClassifier()\n",
    "gbm.fit(X_train, y_train,\n",
    "        eval_set=[(X_test, y_test)])"
   ]
  },
  {
   "cell_type": "code",
   "execution_count": 25,
   "metadata": {},
   "outputs": [
    {
     "data": {
      "text/plain": [
       "0.8808255659121171"
      ]
     },
     "execution_count": 25,
     "metadata": {},
     "output_type": "execute_result"
    }
   ],
   "source": [
    "y_pred = gbm.predict(X_test)\n",
    "accuracy_score(y_test, y_pred)"
   ]
  },
  {
   "cell_type": "markdown",
   "metadata": {},
   "source": [
    "#### Stacking"
   ]
  },
  {
   "cell_type": "code",
   "execution_count": 28,
   "metadata": {},
   "outputs": [],
   "source": [
    "# pip install vecstack"
   ]
  },
  {
   "cell_type": "code",
   "execution_count": 29,
   "metadata": {},
   "outputs": [
    {
     "name": "stdout",
     "output_type": "stream",
     "text": [
      "task:         [classification]\n",
      "n_classes:    [4]\n",
      "metric:       [accuracy_score]\n",
      "variant:      [A]\n",
      "n_estimators: [2]\n",
      "\n",
      "estimator  0: [xgb: XGBClassifier]\n",
      "    fold  0:  [0.90619469]\n",
      "    fold  1:  [0.92730496]\n",
      "    fold  2:  [0.90780142]\n",
      "    fold  3:  [0.90070922]\n",
      "    ----\n",
      "    MEAN:     [0.91050257] + [0.01005092]\n",
      "\n",
      "estimator  1: [ada: AdaBoostClassifier]\n",
      "    fold  0:  [0.86017699]\n",
      "    fold  1:  [0.84219858]\n",
      "    fold  2:  [0.79609929]\n",
      "    fold  3:  [0.85460993]\n",
      "    ----\n",
      "    MEAN:     [0.83827120] + [0.02520274]\n",
      "\n",
      "Train set was detected.\n",
      "Transforming...\n",
      "\n",
      "estimator  0: [xgb: XGBClassifier]\n",
      "    model from fold  0: done\n",
      "    model from fold  1: done\n",
      "    model from fold  2: done\n",
      "    model from fold  3: done\n",
      "    ----\n",
      "    DONE\n",
      "\n",
      "estimator  1: [ada: AdaBoostClassifier]\n",
      "    model from fold  0: done\n",
      "    model from fold  1: done\n",
      "    model from fold  2: done\n",
      "    model from fold  3: done\n",
      "    ----\n",
      "    DONE\n",
      "\n",
      "Transforming...\n",
      "\n",
      "estimator  0: [xgb: XGBClassifier]\n",
      "    model from fold  0: done\n",
      "    model from fold  1: done\n",
      "    model from fold  2: done\n",
      "    model from fold  3: done\n",
      "    ----\n",
      "    DONE\n",
      "\n",
      "estimator  1: [ada: AdaBoostClassifier]\n",
      "    model from fold  0: done\n",
      "    model from fold  1: done\n",
      "    model from fold  2: done\n",
      "    model from fold  3: done\n",
      "    ----\n",
      "    DONE\n",
      "\n"
     ]
    }
   ],
   "source": [
    "from vecstack import StackingTransformer\n",
    "\n",
    "\n",
    "estimators = [('xgb', xgb_clf),\n",
    "              ('ada', ada_clf)]\n",
    "              \n",
    "# StackingTransformer\n",
    "stack = StackingTransformer(estimators, regression=False, verbose=2)\n",
    "\n",
    "# Fit\n",
    "stack = stack.fit(X_train, y_train)\n",
    "\n",
    "# stacked features\n",
    "S_train = stack.transform(X_train)\n",
    "S_test = stack.transform(X_test)\n"
   ]
  },
  {
   "cell_type": "code",
   "execution_count": 30,
   "metadata": {},
   "outputs": [
    {
     "name": "stdout",
     "output_type": "stream",
     "text": [
      "[1]\tvalid_0's multi_logloss: 1.24098\n",
      "[2]\tvalid_0's multi_logloss: 1.12795\n",
      "[3]\tvalid_0's multi_logloss: 1.03503\n",
      "[4]\tvalid_0's multi_logloss: 0.957364\n",
      "[5]\tvalid_0's multi_logloss: 0.891688\n",
      "[6]\tvalid_0's multi_logloss: 0.835695\n",
      "[7]\tvalid_0's multi_logloss: 0.787682\n",
      "[8]\tvalid_0's multi_logloss: 0.746343\n",
      "[9]\tvalid_0's multi_logloss: 0.710652\n",
      "[10]\tvalid_0's multi_logloss: 0.679854\n",
      "[11]\tvalid_0's multi_logloss: 0.65313\n",
      "[12]\tvalid_0's multi_logloss: 0.629988\n",
      "[13]\tvalid_0's multi_logloss: 0.609343\n",
      "[14]\tvalid_0's multi_logloss: 0.591476\n",
      "[15]\tvalid_0's multi_logloss: 0.576034\n",
      "[16]\tvalid_0's multi_logloss: 0.562712\n",
      "[17]\tvalid_0's multi_logloss: 0.551245\n",
      "[18]\tvalid_0's multi_logloss: 0.541315\n",
      "[19]\tvalid_0's multi_logloss: 0.532812\n",
      "[20]\tvalid_0's multi_logloss: 0.52556\n",
      "[21]\tvalid_0's multi_logloss: 0.519414\n",
      "[22]\tvalid_0's multi_logloss: 0.514224\n",
      "[23]\tvalid_0's multi_logloss: 0.509793\n",
      "[24]\tvalid_0's multi_logloss: 0.506097\n",
      "[25]\tvalid_0's multi_logloss: 0.503039\n",
      "[26]\tvalid_0's multi_logloss: 0.500537\n",
      "[27]\tvalid_0's multi_logloss: 0.498514\n",
      "[28]\tvalid_0's multi_logloss: 0.496906\n",
      "[29]\tvalid_0's multi_logloss: 0.495655\n",
      "[30]\tvalid_0's multi_logloss: 0.494711\n",
      "[31]\tvalid_0's multi_logloss: 0.494029\n",
      "[32]\tvalid_0's multi_logloss: 0.493578\n",
      "[33]\tvalid_0's multi_logloss: 0.493317\n",
      "[34]\tvalid_0's multi_logloss: 0.493218\n",
      "[35]\tvalid_0's multi_logloss: 0.493255\n",
      "[36]\tvalid_0's multi_logloss: 0.493406\n",
      "[37]\tvalid_0's multi_logloss: 0.493583\n",
      "[38]\tvalid_0's multi_logloss: 0.493839\n",
      "[39]\tvalid_0's multi_logloss: 0.494128\n",
      "[40]\tvalid_0's multi_logloss: 0.494576\n",
      "[41]\tvalid_0's multi_logloss: 0.494987\n",
      "[42]\tvalid_0's multi_logloss: 0.495513\n",
      "[43]\tvalid_0's multi_logloss: 0.495979\n",
      "[44]\tvalid_0's multi_logloss: 0.496557\n",
      "[45]\tvalid_0's multi_logloss: 0.497055\n",
      "[46]\tvalid_0's multi_logloss: 0.497667\n",
      "[47]\tvalid_0's multi_logloss: 0.498214\n",
      "[48]\tvalid_0's multi_logloss: 0.498767\n",
      "[49]\tvalid_0's multi_logloss: 0.499402\n",
      "[50]\tvalid_0's multi_logloss: 0.499927\n",
      "[51]\tvalid_0's multi_logloss: 0.500565\n",
      "[52]\tvalid_0's multi_logloss: 0.501062\n",
      "[53]\tvalid_0's multi_logloss: 0.501564\n",
      "[54]\tvalid_0's multi_logloss: 0.502075\n",
      "[55]\tvalid_0's multi_logloss: 0.502608\n",
      "[56]\tvalid_0's multi_logloss: 0.503094\n",
      "[57]\tvalid_0's multi_logloss: 0.50358\n",
      "[58]\tvalid_0's multi_logloss: 0.504067\n",
      "[59]\tvalid_0's multi_logloss: 0.504535\n",
      "[60]\tvalid_0's multi_logloss: 0.505027\n",
      "[61]\tvalid_0's multi_logloss: 0.505498\n",
      "[62]\tvalid_0's multi_logloss: 0.506097\n",
      "[63]\tvalid_0's multi_logloss: 0.506588\n",
      "[64]\tvalid_0's multi_logloss: 0.507057\n",
      "[65]\tvalid_0's multi_logloss: 0.507556\n",
      "[66]\tvalid_0's multi_logloss: 0.508014\n",
      "[67]\tvalid_0's multi_logloss: 0.508497\n",
      "[68]\tvalid_0's multi_logloss: 0.508962\n",
      "[69]\tvalid_0's multi_logloss: 0.509447\n",
      "[70]\tvalid_0's multi_logloss: 0.510041\n",
      "[71]\tvalid_0's multi_logloss: 0.510508\n",
      "[72]\tvalid_0's multi_logloss: 0.510995\n",
      "[73]\tvalid_0's multi_logloss: 0.511485\n",
      "[74]\tvalid_0's multi_logloss: 0.511998\n",
      "[75]\tvalid_0's multi_logloss: 0.512152\n",
      "[76]\tvalid_0's multi_logloss: 0.512609\n",
      "[77]\tvalid_0's multi_logloss: 0.512802\n",
      "[78]\tvalid_0's multi_logloss: 0.513282\n",
      "[79]\tvalid_0's multi_logloss: 0.513458\n",
      "[80]\tvalid_0's multi_logloss: 0.513959\n",
      "[81]\tvalid_0's multi_logloss: 0.51414\n",
      "[82]\tvalid_0's multi_logloss: 0.514649\n",
      "[83]\tvalid_0's multi_logloss: 0.514889\n",
      "[84]\tvalid_0's multi_logloss: 0.515378\n",
      "[85]\tvalid_0's multi_logloss: 0.515556\n",
      "[86]\tvalid_0's multi_logloss: 0.515693\n",
      "[87]\tvalid_0's multi_logloss: 0.516231\n",
      "[88]\tvalid_0's multi_logloss: 0.516815\n",
      "[89]\tvalid_0's multi_logloss: 0.51698\n",
      "[90]\tvalid_0's multi_logloss: 0.517194\n",
      "[91]\tvalid_0's multi_logloss: 0.517422\n",
      "[92]\tvalid_0's multi_logloss: 0.517924\n",
      "[93]\tvalid_0's multi_logloss: 0.518158\n",
      "[94]\tvalid_0's multi_logloss: 0.518367\n",
      "[95]\tvalid_0's multi_logloss: 0.518587\n",
      "[96]\tvalid_0's multi_logloss: 0.519062\n",
      "[97]\tvalid_0's multi_logloss: 0.519287\n",
      "[98]\tvalid_0's multi_logloss: 0.519551\n",
      "[99]\tvalid_0's multi_logloss: 0.519839\n",
      "[100]\tvalid_0's multi_logloss: 0.520006\n"
     ]
    },
    {
     "data": {
      "text/plain": [
       "LGBMClassifier(boosting_type='gbdt', class_weight=None, colsample_bytree=1.0,\n",
       "        importance_type='split', learning_rate=0.1, max_depth=-1,\n",
       "        min_child_samples=20, min_child_weight=0.001, min_split_gain=0.0,\n",
       "        n_estimators=100, n_jobs=-1, num_leaves=31, objective=None,\n",
       "        random_state=None, reg_alpha=0.0, reg_lambda=0.0, silent=True,\n",
       "        subsample=1.0, subsample_for_bin=200000, subsample_freq=0)"
      ]
     },
     "execution_count": 30,
     "metadata": {},
     "output_type": "execute_result"
    }
   ],
   "source": [
    "gbm = lgb.LGBMClassifier()\n",
    "gbm.fit(S_train, y_train,\n",
    "        eval_set=[(S_test, y_test)])"
   ]
  },
  {
   "cell_type": "code",
   "execution_count": 32,
   "metadata": {},
   "outputs": [
    {
     "data": {
      "text/plain": [
       "0.8601864181091877"
      ]
     },
     "execution_count": 32,
     "metadata": {},
     "output_type": "execute_result"
    }
   ],
   "source": [
    "y_pred = gbm.predict(S_test)\n",
    "accuracy_score(y_test, y_pred)"
   ]
  }
 ],
 "metadata": {
  "kernelspec": {
   "display_name": "Python 3",
   "language": "python",
   "name": "python3"
  },
  "language_info": {
   "codemirror_mode": {
    "name": "ipython",
    "version": 3
   },
   "file_extension": ".py",
   "mimetype": "text/x-python",
   "name": "python",
   "nbconvert_exporter": "python",
   "pygments_lexer": "ipython3",
   "version": "3.7.1"
  }
 },
 "nbformat": 4,
 "nbformat_minor": 2
}
