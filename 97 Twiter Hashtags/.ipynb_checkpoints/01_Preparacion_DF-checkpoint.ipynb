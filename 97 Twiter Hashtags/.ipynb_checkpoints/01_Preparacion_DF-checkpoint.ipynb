{
 "cells": [
  {
   "cell_type": "code",
   "execution_count": 88,
   "metadata": {},
   "outputs": [],
   "source": [
    "from glob import glob\n",
    "import os\n",
    "import pandas as pd\n",
    "import numpy as np"
   ]
  },
  {
   "cell_type": "code",
   "execution_count": 2,
   "metadata": {},
   "outputs": [],
   "source": [
    "archivos = [os.path.basename(x) for x in glob('./Tweets/*.json')]\n",
    "archivos = glob('./Tweets/*.json')"
   ]
  },
  {
   "cell_type": "code",
   "execution_count": 3,
   "metadata": {},
   "outputs": [],
   "source": [
    "dataframes = []\n",
    "en_lectura = \"\"\n",
    "try:\n",
    "    for arch in archivos:\n",
    "        en_estudio = arch\n",
    "        dataframes.append(pd.read_json(arch))\n",
    "except:\n",
    "    print(\"Error leyendo el archivo \" + en_leectura)"
   ]
  },
  {
   "cell_type": "code",
   "execution_count": 62,
   "metadata": {},
   "outputs": [],
   "source": [
    "df = pd.concat(dataframes, sort=False)"
   ]
  },
  {
   "cell_type": "code",
   "execution_count": 63,
   "metadata": {},
   "outputs": [
    {
     "data": {
      "text/plain": [
       "(1018, 36)"
      ]
     },
     "execution_count": 63,
     "metadata": {},
     "output_type": "execute_result"
    }
   ],
   "source": [
    "df.shape"
   ]
  },
  {
   "cell_type": "code",
   "execution_count": 64,
   "metadata": {},
   "outputs": [
    {
     "data": {
      "text/plain": [
       "contributors                        float64\n",
       "coordinates                         float64\n",
       "created_at                   datetime64[ns]\n",
       "display_text_range                   object\n",
       "entities                             object\n",
       "extended_entities                    object\n",
       "extended_tweet                       object\n",
       "favorite_count                        int64\n",
       "favorited                              bool\n",
       "filter_level                         object\n",
       "geo                                 float64\n",
       "id                                    int64\n",
       "id_str                                int64\n",
       "in_reply_to_screen_name              object\n",
       "in_reply_to_status_id               float64\n",
       "in_reply_to_status_id_str           float64\n",
       "in_reply_to_user_id                 float64\n",
       "in_reply_to_user_id_str             float64\n",
       "is_quote_status                        bool\n",
       "lang                                 object\n",
       "place                                object\n",
       "possibly_sensitive                  float64\n",
       "quote_count                           int64\n",
       "quoted_status                        object\n",
       "quoted_status_id                    float64\n",
       "quoted_status_id_str                float64\n",
       "quoted_status_permalink              object\n",
       "reply_count                           int64\n",
       "retweet_count                         int64\n",
       "retweeted                              bool\n",
       "retweeted_status                     object\n",
       "source                               object\n",
       "text                                 object\n",
       "timestamp_ms                 datetime64[ns]\n",
       "truncated                              bool\n",
       "user                                 object\n",
       "dtype: object"
      ]
     },
     "execution_count": 64,
     "metadata": {},
     "output_type": "execute_result"
    }
   ],
   "source": [
    "df.dtypes"
   ]
  },
  {
   "cell_type": "code",
   "execution_count": 89,
   "metadata": {},
   "outputs": [],
   "source": [
    "df = df[['text','extended_tweet']]"
   ]
  },
  {
   "cell_type": "code",
   "execution_count": 90,
   "metadata": {},
   "outputs": [
    {
     "data": {
      "text/html": [
       "<div>\n",
       "<style scoped>\n",
       "    .dataframe tbody tr th:only-of-type {\n",
       "        vertical-align: middle;\n",
       "    }\n",
       "\n",
       "    .dataframe tbody tr th {\n",
       "        vertical-align: top;\n",
       "    }\n",
       "\n",
       "    .dataframe thead th {\n",
       "        text-align: right;\n",
       "    }\n",
       "</style>\n",
       "<table border=\"1\" class=\"dataframe\">\n",
       "  <thead>\n",
       "    <tr style=\"text-align: right;\">\n",
       "      <th></th>\n",
       "      <th>text</th>\n",
       "      <th>extended_tweet</th>\n",
       "    </tr>\n",
       "  </thead>\n",
       "  <tbody>\n",
       "    <tr>\n",
       "      <th>0</th>\n",
       "      <td>A 15 años de la recuperación de la ESMA, el di...</td>\n",
       "      <td>NaN</td>\n",
       "    </tr>\n",
       "    <tr>\n",
       "      <th>1</th>\n",
       "      <td>@eldestapeweb @Siempre_Ciclon Macri puede esta...</td>\n",
       "      <td>{'full_text': '@eldestapeweb @Siempre_Ciclon M...</td>\n",
       "    </tr>\n",
       "    <tr>\n",
       "      <th>2</th>\n",
       "      <td>RT @nelpold: Sudamérica entierra a la Unasur d...</td>\n",
       "      <td>NaN</td>\n",
       "    </tr>\n",
       "    <tr>\n",
       "      <th>3</th>\n",
       "      <td>RT @sergiodwy: Cristobal López está preso, se ...</td>\n",
       "      <td>NaN</td>\n",
       "    </tr>\n",
       "    <tr>\n",
       "      <th>4</th>\n",
       "      <td>RT @BonelliOK: #Encuesta\\nSi tuvieras la oport...</td>\n",
       "      <td>NaN</td>\n",
       "    </tr>\n",
       "  </tbody>\n",
       "</table>\n",
       "</div>"
      ],
      "text/plain": [
       "                                                text  \\\n",
       "0  A 15 años de la recuperación de la ESMA, el di...   \n",
       "1  @eldestapeweb @Siempre_Ciclon Macri puede esta...   \n",
       "2  RT @nelpold: Sudamérica entierra a la Unasur d...   \n",
       "3  RT @sergiodwy: Cristobal López está preso, se ...   \n",
       "4  RT @BonelliOK: #Encuesta\\nSi tuvieras la oport...   \n",
       "\n",
       "                                      extended_tweet  \n",
       "0                                                NaN  \n",
       "1  {'full_text': '@eldestapeweb @Siempre_Ciclon M...  \n",
       "2                                                NaN  \n",
       "3                                                NaN  \n",
       "4                                                NaN  "
      ]
     },
     "execution_count": 90,
     "metadata": {},
     "output_type": "execute_result"
    }
   ],
   "source": [
    "df.head()"
   ]
  },
  {
   "cell_type": "code",
   "execution_count": 92,
   "metadata": {},
   "outputs": [],
   "source": [
    "df['full_text'] = np.where(df.extended_tweet.notna(),df.extended_tweet,df.text)"
   ]
  },
  {
   "cell_type": "code",
   "execution_count": 94,
   "metadata": {},
   "outputs": [
    {
     "data": {
      "text/html": [
       "<div>\n",
       "<style scoped>\n",
       "    .dataframe tbody tr th:only-of-type {\n",
       "        vertical-align: middle;\n",
       "    }\n",
       "\n",
       "    .dataframe tbody tr th {\n",
       "        vertical-align: top;\n",
       "    }\n",
       "\n",
       "    .dataframe thead th {\n",
       "        text-align: right;\n",
       "    }\n",
       "</style>\n",
       "<table border=\"1\" class=\"dataframe\">\n",
       "  <thead>\n",
       "    <tr style=\"text-align: right;\">\n",
       "      <th></th>\n",
       "      <th>text</th>\n",
       "      <th>extended_tweet</th>\n",
       "      <th>full_text</th>\n",
       "    </tr>\n",
       "  </thead>\n",
       "  <tbody>\n",
       "    <tr>\n",
       "      <th>0</th>\n",
       "      <td>A 15 años de la recuperación de la ESMA, el di...</td>\n",
       "      <td>NaN</td>\n",
       "      <td>A 15 años de la recuperación de la ESMA, el di...</td>\n",
       "    </tr>\n",
       "    <tr>\n",
       "      <th>1</th>\n",
       "      <td>@eldestapeweb @Siempre_Ciclon Macri puede esta...</td>\n",
       "      <td>{'full_text': '@eldestapeweb @Siempre_Ciclon M...</td>\n",
       "      <td>{'full_text': '@eldestapeweb @Siempre_Ciclon M...</td>\n",
       "    </tr>\n",
       "    <tr>\n",
       "      <th>2</th>\n",
       "      <td>RT @nelpold: Sudamérica entierra a la Unasur d...</td>\n",
       "      <td>NaN</td>\n",
       "      <td>RT @nelpold: Sudamérica entierra a la Unasur d...</td>\n",
       "    </tr>\n",
       "    <tr>\n",
       "      <th>3</th>\n",
       "      <td>RT @sergiodwy: Cristobal López está preso, se ...</td>\n",
       "      <td>NaN</td>\n",
       "      <td>RT @sergiodwy: Cristobal López está preso, se ...</td>\n",
       "    </tr>\n",
       "    <tr>\n",
       "      <th>4</th>\n",
       "      <td>RT @BonelliOK: #Encuesta\\nSi tuvieras la oport...</td>\n",
       "      <td>NaN</td>\n",
       "      <td>RT @BonelliOK: #Encuesta\\nSi tuvieras la oport...</td>\n",
       "    </tr>\n",
       "  </tbody>\n",
       "</table>\n",
       "</div>"
      ],
      "text/plain": [
       "                                                text  \\\n",
       "0  A 15 años de la recuperación de la ESMA, el di...   \n",
       "1  @eldestapeweb @Siempre_Ciclon Macri puede esta...   \n",
       "2  RT @nelpold: Sudamérica entierra a la Unasur d...   \n",
       "3  RT @sergiodwy: Cristobal López está preso, se ...   \n",
       "4  RT @BonelliOK: #Encuesta\\nSi tuvieras la oport...   \n",
       "\n",
       "                                      extended_tweet  \\\n",
       "0                                                NaN   \n",
       "1  {'full_text': '@eldestapeweb @Siempre_Ciclon M...   \n",
       "2                                                NaN   \n",
       "3                                                NaN   \n",
       "4                                                NaN   \n",
       "\n",
       "                                           full_text  \n",
       "0  A 15 años de la recuperación de la ESMA, el di...  \n",
       "1  {'full_text': '@eldestapeweb @Siempre_Ciclon M...  \n",
       "2  RT @nelpold: Sudamérica entierra a la Unasur d...  \n",
       "3  RT @sergiodwy: Cristobal López está preso, se ...  \n",
       "4  RT @BonelliOK: #Encuesta\\nSi tuvieras la oport...  "
      ]
     },
     "execution_count": 94,
     "metadata": {},
     "output_type": "execute_result"
    }
   ],
   "source": [
    "df.head()"
   ]
  },
  {
   "cell_type": "code",
   "execution_count": 97,
   "metadata": {},
   "outputs": [],
   "source": [
    "df['upper_text'] = df['full_text'].str.upper()"
   ]
  },
  {
   "cell_type": "code",
   "execution_count": 106,
   "metadata": {},
   "outputs": [
    {
     "data": {
      "text/plain": [
       "0      A 15 años de la recuperación de la ESMA, el di...\n",
       "1      {'full_text': '@eldestapeweb @Siempre_Ciclon M...\n",
       "2      RT @nelpold: Sudamérica entierra a la Unasur d...\n",
       "3      RT @sergiodwy: Cristobal López está preso, se ...\n",
       "4      RT @BonelliOK: #Encuesta\\nSi tuvieras la oport...\n",
       "5      Tiene las piernas hinchadas....Cualquiera conv...\n",
       "6      RT @silviapalmword: O un #HipotecadosUva que l...\n",
       "7      RT @77azulgrana: Siempre, siempre, tenés q ser...\n",
       "8      RT @javiernavia: Así te mienten https://t.co/7...\n",
       "9      RT @jotaalonso: Sábado de sol, familias intent...\n",
       "10     RT @mirif68: NO CREO QUE MANES SE PRESTE A  SU...\n",
       "11     RT @sergiodwy: Cristobal López está preso, se ...\n",
       "12     {'full_text': '@diego_melonos @WaltN1981 @Giac...\n",
       "13     RT @LuisGasulla: #24MPorLaMemoria Utilizando a...\n",
       "14     {'full_text': '@ECfk2019 @Charoli2015 Ojala se...\n",
       "15     RT @fargosi: Que raro, el video completo muest...\n",
       "16     RT @BonelliOK: #Encuesta\\nSi tuvieras la oport...\n",
       "17     RT @Manu_Auge: @GallitoGodoy Yo no voy a pedir...\n",
       "18     RT @LuisGasulla: #24MPorLaMemoria Utilizando a...\n",
       "19     RT @VerbitskyH: Entrevista a Rodolfo Daer por ...\n",
       "20     RT @fargosi: Que raro, el video completo muest...\n",
       "21     RT @LaBelgrana: Dice Espert que para cambiar e...\n",
       "22     RT @jotaalonso: Sábado de sol, familias intent...\n",
       "23     RT @dsantoro59: Manzanares reveló que el valet...\n",
       "24     RT @jotaalonso: La tapa de El País augura con ...\n",
       "25     RT @atlanticsurff: ✔️Perfil: Otro mal momento ...\n",
       "26     RT @AlfredoDarrigo: El desbarranque de Andahaz...\n",
       "27     RT @BonelliOK: #Encuesta\\nSi tuvieras la oport...\n",
       "28     RT @LuisGasulla: Háganse cargo de Milani. Aním...\n",
       "29     RT @guillotina755: @sbatakis @Cascotealambra1 ...\n",
       "                             ...                        \n",
       "71     RT @malave_nancy: @AntEsRiv @raul_lucarini @da...\n",
       "72     RT @jcoulon: Prosur se divide tareas.\\nPiñera ...\n",
       "73     RT @UniCiudadanaAR: A 15 años de la recuperaci...\n",
       "74     RT @infobae: Con la presencia de Alicia Kirchn...\n",
       "75     RT @mmilena64: #QueVuelvaElla y lo va a poder ...\n",
       "76     RT @Ale_Bodart: Desde el @MSTargentina repudia...\n",
       "77     RT @pulsionparcial: Le hacen la V peronista a ...\n",
       "78     RT @rolandosantoro6: Si Cristina Kirchner va p...\n",
       "79     RT @FernandezAnibal: Fantino pegó un volantazo...\n",
       "80     RT @robdnavarro: Guillermo Moreno: \"Roberto La...\n",
       "81     RT @BonelliOK: #Encuesta\\nSi tuvieras la oport...\n",
       "82     RT @atilioboron: #NoAlPatentamientoDeSemillas ...\n",
       "83     {'full_text': '@animalesoficial @agencialaviej...\n",
       "84     RT @gebanzas: @LongobardiM @diegoleuco @andaha...\n",
       "85     RT @jlespert: Ni Macri, Ni Cristina, Espert pa...\n",
       "86     RT @AngelicaLagunas: La policía ingresó al loc...\n",
       "87     RT @QCastana: Exclusivo: las tres explosivas d...\n",
       "88     RT @MargaWirkierman: Volvimos al mundo como qu...\n",
       "89     RT @agustinvidal5: Cierra el shopping de Villa...\n",
       "90     RT @atilioboron: #NoAlPatentamientoDeSemillas ...\n",
       "91     RT @emigbusquet: Señor y señora ama de casa. N...\n",
       "92     Resultó que Moreno es más pelotudo de lo que c...\n",
       "93     RT @marineroderadio: Parece que la cosa es así...\n",
       "94     RT @FebosAnalytics: Si Máximo Kirchner se post...\n",
       "95     RT @Aabadonh: Alrededor de Lavagna se van ubic...\n",
       "96     RT @edgerome: Baby Echecopar la tiene clara.  ...\n",
       "97     RT @jotaalonso: Cada una de las tapas de los g...\n",
       "98     RT @EduInversor: 📣 Nuevo espaldarazo de EE.UU....\n",
       "99     {'full_text': 'Que carajo esta pasando con la ...\n",
       "100    RT @Ale_Bodart: Desde el @MSTargentina repudia...\n",
       "Name: full_text, Length: 1018, dtype: object"
      ]
     },
     "execution_count": 106,
     "metadata": {},
     "output_type": "execute_result"
    }
   ],
   "source": [
    "df.full_text"
   ]
  },
  {
   "cell_type": "code",
   "execution_count": 101,
   "metadata": {},
   "outputs": [],
   "source": [
    "df['Kirchner'] = df.upper_text.str.contains('KIRCHNER')"
   ]
  },
  {
   "cell_type": "code",
   "execution_count": 102,
   "metadata": {},
   "outputs": [],
   "source": [
    "df['Lavagna'] = df.upper_text.str.contains('LAVAGNA')"
   ]
  },
  {
   "cell_type": "code",
   "execution_count": 103,
   "metadata": {},
   "outputs": [],
   "source": [
    "df['Macri'] = df.upper_text.str.contains('MACRI')"
   ]
  },
  {
   "cell_type": "code",
   "execution_count": 104,
   "metadata": {},
   "outputs": [
    {
     "data": {
      "text/html": [
       "<div>\n",
       "<style scoped>\n",
       "    .dataframe tbody tr th:only-of-type {\n",
       "        vertical-align: middle;\n",
       "    }\n",
       "\n",
       "    .dataframe tbody tr th {\n",
       "        vertical-align: top;\n",
       "    }\n",
       "\n",
       "    .dataframe thead th {\n",
       "        text-align: right;\n",
       "    }\n",
       "</style>\n",
       "<table border=\"1\" class=\"dataframe\">\n",
       "  <thead>\n",
       "    <tr style=\"text-align: right;\">\n",
       "      <th></th>\n",
       "      <th>text</th>\n",
       "      <th>extended_tweet</th>\n",
       "      <th>full_text</th>\n",
       "      <th>upper_text</th>\n",
       "      <th>Kirchner</th>\n",
       "      <th>Lavagna</th>\n",
       "      <th>Macri</th>\n",
       "    </tr>\n",
       "  </thead>\n",
       "  <tbody>\n",
       "    <tr>\n",
       "      <th>0</th>\n",
       "      <td>A 15 años de la recuperación de la ESMA, el di...</td>\n",
       "      <td>NaN</td>\n",
       "      <td>A 15 años de la recuperación de la ESMA, el di...</td>\n",
       "      <td>A 15 AÑOS DE LA RECUPERACIÓN DE LA ESMA, EL DI...</td>\n",
       "      <td>True</td>\n",
       "      <td>False</td>\n",
       "      <td>False</td>\n",
       "    </tr>\n",
       "    <tr>\n",
       "      <th>1</th>\n",
       "      <td>@eldestapeweb @Siempre_Ciclon Macri puede esta...</td>\n",
       "      <td>{'full_text': '@eldestapeweb @Siempre_Ciclon M...</td>\n",
       "      <td>{'full_text': '@eldestapeweb @Siempre_Ciclon M...</td>\n",
       "      <td>NaN</td>\n",
       "      <td>NaN</td>\n",
       "      <td>NaN</td>\n",
       "      <td>NaN</td>\n",
       "    </tr>\n",
       "    <tr>\n",
       "      <th>2</th>\n",
       "      <td>RT @nelpold: Sudamérica entierra a la Unasur d...</td>\n",
       "      <td>NaN</td>\n",
       "      <td>RT @nelpold: Sudamérica entierra a la Unasur d...</td>\n",
       "      <td>RT @NELPOLD: SUDAMÉRICA ENTIERRA A LA UNASUR D...</td>\n",
       "      <td>True</td>\n",
       "      <td>False</td>\n",
       "      <td>False</td>\n",
       "    </tr>\n",
       "    <tr>\n",
       "      <th>3</th>\n",
       "      <td>RT @sergiodwy: Cristobal López está preso, se ...</td>\n",
       "      <td>NaN</td>\n",
       "      <td>RT @sergiodwy: Cristobal López está preso, se ...</td>\n",
       "      <td>RT @SERGIODWY: CRISTOBAL LÓPEZ ESTÁ PRESO, SE ...</td>\n",
       "      <td>False</td>\n",
       "      <td>False</td>\n",
       "      <td>True</td>\n",
       "    </tr>\n",
       "    <tr>\n",
       "      <th>4</th>\n",
       "      <td>RT @BonelliOK: #Encuesta\\nSi tuvieras la oport...</td>\n",
       "      <td>NaN</td>\n",
       "      <td>RT @BonelliOK: #Encuesta\\nSi tuvieras la oport...</td>\n",
       "      <td>RT @BONELLIOK: #ENCUESTA\\nSI TUVIERAS LA OPORT...</td>\n",
       "      <td>False</td>\n",
       "      <td>False</td>\n",
       "      <td>True</td>\n",
       "    </tr>\n",
       "  </tbody>\n",
       "</table>\n",
       "</div>"
      ],
      "text/plain": [
       "                                                text  \\\n",
       "0  A 15 años de la recuperación de la ESMA, el di...   \n",
       "1  @eldestapeweb @Siempre_Ciclon Macri puede esta...   \n",
       "2  RT @nelpold: Sudamérica entierra a la Unasur d...   \n",
       "3  RT @sergiodwy: Cristobal López está preso, se ...   \n",
       "4  RT @BonelliOK: #Encuesta\\nSi tuvieras la oport...   \n",
       "\n",
       "                                      extended_tweet  \\\n",
       "0                                                NaN   \n",
       "1  {'full_text': '@eldestapeweb @Siempre_Ciclon M...   \n",
       "2                                                NaN   \n",
       "3                                                NaN   \n",
       "4                                                NaN   \n",
       "\n",
       "                                           full_text  \\\n",
       "0  A 15 años de la recuperación de la ESMA, el di...   \n",
       "1  {'full_text': '@eldestapeweb @Siempre_Ciclon M...   \n",
       "2  RT @nelpold: Sudamérica entierra a la Unasur d...   \n",
       "3  RT @sergiodwy: Cristobal López está preso, se ...   \n",
       "4  RT @BonelliOK: #Encuesta\\nSi tuvieras la oport...   \n",
       "\n",
       "                                          upper_text Kirchner Lavagna  Macri  \n",
       "0  A 15 AÑOS DE LA RECUPERACIÓN DE LA ESMA, EL DI...     True   False  False  \n",
       "1                                                NaN      NaN     NaN    NaN  \n",
       "2  RT @NELPOLD: SUDAMÉRICA ENTIERRA A LA UNASUR D...     True   False  False  \n",
       "3  RT @SERGIODWY: CRISTOBAL LÓPEZ ESTÁ PRESO, SE ...    False   False   True  \n",
       "4  RT @BONELLIOK: #ENCUESTA\\nSI TUVIERAS LA OPORT...    False   False   True  "
      ]
     },
     "execution_count": 104,
     "metadata": {},
     "output_type": "execute_result"
    }
   ],
   "source": [
    "df.head()"
   ]
  },
  {
   "cell_type": "code",
   "execution_count": 105,
   "metadata": {},
   "outputs": [
    {
     "ename": "TypeError",
     "evalue": "bad operand type for unary ~: 'float'",
     "output_type": "error",
     "traceback": [
      "\u001b[1;31m---------------------------------------------------------------------------\u001b[0m",
      "\u001b[1;31mTypeError\u001b[0m                                 Traceback (most recent call last)",
      "\u001b[1;32m<ipython-input-105-fa38cb3631a6>\u001b[0m in \u001b[0;36m<module>\u001b[1;34m\u001b[0m\n\u001b[1;32m----> 1\u001b[1;33m \u001b[0mdf\u001b[0m\u001b[1;33m[\u001b[0m\u001b[1;33m~\u001b[0m\u001b[1;33m(\u001b[0m\u001b[0mdf\u001b[0m\u001b[1;33m.\u001b[0m\u001b[0mKirchner\u001b[0m\u001b[1;33m)\u001b[0m \u001b[1;33m&\u001b[0m \u001b[1;33m~\u001b[0m\u001b[1;33m(\u001b[0m\u001b[0mdf\u001b[0m\u001b[1;33m.\u001b[0m\u001b[0mMacri\u001b[0m\u001b[1;33m)\u001b[0m \u001b[1;33m&\u001b[0m \u001b[1;33m~\u001b[0m\u001b[1;33m(\u001b[0m\u001b[0mdf\u001b[0m\u001b[1;33m.\u001b[0m\u001b[0mLavagna\u001b[0m\u001b[1;33m)\u001b[0m\u001b[1;33m]\u001b[0m\u001b[1;33m\u001b[0m\u001b[1;33m\u001b[0m\u001b[0m\n\u001b[0m",
      "\u001b[1;32m~\\Anaconda3\\lib\\site-packages\\pandas\\core\\generic.py\u001b[0m in \u001b[0;36m__invert__\u001b[1;34m(self)\u001b[0m\n\u001b[0;32m   1141\u001b[0m     \u001b[1;32mdef\u001b[0m \u001b[0m__invert__\u001b[0m\u001b[1;33m(\u001b[0m\u001b[0mself\u001b[0m\u001b[1;33m)\u001b[0m\u001b[1;33m:\u001b[0m\u001b[1;33m\u001b[0m\u001b[1;33m\u001b[0m\u001b[0m\n\u001b[0;32m   1142\u001b[0m         \u001b[1;32mtry\u001b[0m\u001b[1;33m:\u001b[0m\u001b[1;33m\u001b[0m\u001b[1;33m\u001b[0m\u001b[0m\n\u001b[1;32m-> 1143\u001b[1;33m             \u001b[0marr\u001b[0m \u001b[1;33m=\u001b[0m \u001b[0moperator\u001b[0m\u001b[1;33m.\u001b[0m\u001b[0minv\u001b[0m\u001b[1;33m(\u001b[0m\u001b[0mcom\u001b[0m\u001b[1;33m.\u001b[0m\u001b[0m_values_from_object\u001b[0m\u001b[1;33m(\u001b[0m\u001b[0mself\u001b[0m\u001b[1;33m)\u001b[0m\u001b[1;33m)\u001b[0m\u001b[1;33m\u001b[0m\u001b[1;33m\u001b[0m\u001b[0m\n\u001b[0m\u001b[0;32m   1144\u001b[0m             \u001b[1;32mreturn\u001b[0m \u001b[0mself\u001b[0m\u001b[1;33m.\u001b[0m\u001b[0m__array_wrap__\u001b[0m\u001b[1;33m(\u001b[0m\u001b[0marr\u001b[0m\u001b[1;33m)\u001b[0m\u001b[1;33m\u001b[0m\u001b[1;33m\u001b[0m\u001b[0m\n\u001b[0;32m   1145\u001b[0m         \u001b[1;32mexcept\u001b[0m \u001b[0mException\u001b[0m\u001b[1;33m:\u001b[0m\u001b[1;33m\u001b[0m\u001b[1;33m\u001b[0m\u001b[0m\n",
      "\u001b[1;31mTypeError\u001b[0m: bad operand type for unary ~: 'float'"
     ]
    }
   ],
   "source": [
    "df[~(df.Kirchner) & ~(df.Macri) & ~(df.Lavagna)]"
   ]
  },
  {
   "cell_type": "code",
   "execution_count": null,
   "metadata": {},
   "outputs": [],
   "source": []
  }
 ],
 "metadata": {
  "kernelspec": {
   "display_name": "Python 3",
   "language": "python",
   "name": "python3"
  },
  "language_info": {
   "codemirror_mode": {
    "name": "ipython",
    "version": 3
   },
   "file_extension": ".py",
   "mimetype": "text/x-python",
   "name": "python",
   "nbconvert_exporter": "python",
   "pygments_lexer": "ipython3",
   "version": "3.7.1"
  }
 },
 "nbformat": 4,
 "nbformat_minor": 2
}
